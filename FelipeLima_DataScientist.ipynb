{
  "nbformat": 4,
  "nbformat_minor": 0,
  "metadata": {
    "colab": {
      "name": "FelipeLima_DataScientist.ipynb",
      "provenance": [],
      "collapsed_sections": []
    },
    "kernelspec": {
      "name": "python3",
      "display_name": "Python 3"
    }
  },
  "cells": [
    {
      "cell_type": "markdown",
      "metadata": {
        "id": "t6vzT9cIgun-",
        "colab_type": "text"
      },
      "source": [
        "# CASE 1"
      ]
    },
    {
      "cell_type": "markdown",
      "metadata": {
        "id": "McVMT9noUCQT",
        "colab_type": "text"
      },
      "source": [
        "##Preparation"
      ]
    },
    {
      "cell_type": "markdown",
      "metadata": {
        "id": "Hx43SARVTsr8",
        "colab_type": "text"
      },
      "source": [
        "For the preparations lets import the necessary libraries and load the files needed for our exploration"
      ]
    },
    {
      "cell_type": "code",
      "metadata": {
        "id": "EEIdK6rzSsxZ",
        "colab_type": "code",
        "colab": {
          "base_uri": "https://localhost:8080/",
          "height": 87
        },
        "outputId": "8d41db8b-f572-4928-cf46-1c1aef83c014"
      },
      "source": [
        "import pandas as pd\n",
        "import numpy as np\n",
        "import matplotlib as mpl\n",
        "import matplotlib.pyplot as plt\n",
        "import seaborn as sns\n",
        "\n",
        "from sklearn.preprocessing import MinMaxScaler\n",
        "from sklearn.preprocessing import StandardScaler\n",
        "from sklearn.tree import DecisionTreeRegressor\n",
        "from sklearn.linear_model import LinearRegression\n",
        "from sklearn.model_selection import train_test_split\n",
        "\n",
        "from statsmodels.tools.eval_measures import rmse\n",
        "from statsmodels.tsa.arima_model import ARIMA\n",
        "\n",
        "from keras.models import Sequential\n",
        "from keras.layers import Dense, LSTM, Dropout, Activation\n",
        "import random\n",
        "import math\n",
        "\n",
        "import warnings\n",
        "\n",
        "warnings.filterwarnings(\"ignore\")\n",
        "\n",
        "!pip install squarify\n",
        "import squarify"
      ],
      "execution_count": 171,
      "outputs": [
        {
          "output_type": "stream",
          "text": [
            "Collecting squarify\n",
            "  Downloading https://files.pythonhosted.org/packages/0b/2b/2e77c35326efec19819cd1d729540d4d235e6c2a3f37658288a363a67da5/squarify-0.4.3-py3-none-any.whl\n",
            "Installing collected packages: squarify\n",
            "Successfully installed squarify-0.4.3\n"
          ],
          "name": "stdout"
        }
      ]
    },
    {
      "cell_type": "code",
      "metadata": {
        "id": "62xRpEFQToQm",
        "colab_type": "code",
        "colab": {
          "base_uri": "https://localhost:8080/",
          "height": 197
        },
        "outputId": "96c7007d-2e98-4ced-8231-ef34640c3310"
      },
      "source": [
        "data = pd.read_csv(\"/content/TFP.csv\")\n",
        "data.head() # Using (head) to get the first 5 values of our dataset to check it"
      ],
      "execution_count": 2,
      "outputs": [
        {
          "output_type": "execute_result",
          "data": {
            "text/html": [
              "<div>\n",
              "<style scoped>\n",
              "    .dataframe tbody tr th:only-of-type {\n",
              "        vertical-align: middle;\n",
              "    }\n",
              "\n",
              "    .dataframe tbody tr th {\n",
              "        vertical-align: top;\n",
              "    }\n",
              "\n",
              "    .dataframe thead th {\n",
              "        text-align: right;\n",
              "    }\n",
              "</style>\n",
              "<table border=\"1\" class=\"dataframe\">\n",
              "  <thead>\n",
              "    <tr style=\"text-align: right;\">\n",
              "      <th></th>\n",
              "      <th>isocode</th>\n",
              "      <th>year</th>\n",
              "      <th>rtfpna</th>\n",
              "    </tr>\n",
              "  </thead>\n",
              "  <tbody>\n",
              "    <tr>\n",
              "      <th>0</th>\n",
              "      <td>USA</td>\n",
              "      <td>1950</td>\n",
              "      <td>0.617148</td>\n",
              "    </tr>\n",
              "    <tr>\n",
              "      <th>1</th>\n",
              "      <td>USA</td>\n",
              "      <td>1951</td>\n",
              "      <td>0.629588</td>\n",
              "    </tr>\n",
              "    <tr>\n",
              "      <th>2</th>\n",
              "      <td>USA</td>\n",
              "      <td>1952</td>\n",
              "      <td>0.638451</td>\n",
              "    </tr>\n",
              "    <tr>\n",
              "      <th>3</th>\n",
              "      <td>USA</td>\n",
              "      <td>1953</td>\n",
              "      <td>0.651858</td>\n",
              "    </tr>\n",
              "    <tr>\n",
              "      <th>4</th>\n",
              "      <td>USA</td>\n",
              "      <td>1954</td>\n",
              "      <td>0.646179</td>\n",
              "    </tr>\n",
              "  </tbody>\n",
              "</table>\n",
              "</div>"
            ],
            "text/plain": [
              "  isocode  year    rtfpna\n",
              "0     USA  1950  0.617148\n",
              "1     USA  1951  0.629588\n",
              "2     USA  1952  0.638451\n",
              "3     USA  1953  0.651858\n",
              "4     USA  1954  0.646179"
            ]
          },
          "metadata": {
            "tags": []
          },
          "execution_count": 2
        }
      ]
    },
    {
      "cell_type": "code",
      "metadata": {
        "id": "54PVRaVuUUmb",
        "colab_type": "code",
        "colab": {
          "base_uri": "https://localhost:8080/",
          "height": 265
        },
        "outputId": "af4e3803-12cc-4401-a108-2f9917297828"
      },
      "source": [
        "data.info # Using (info) to see a little more of our dataset, here we can get its size too, for example, this one have 186 rows and 3 columns"
      ],
      "execution_count": 4,
      "outputs": [
        {
          "output_type": "execute_result",
          "data": {
            "text/plain": [
              "<bound method DataFrame.info of     isocode  year    rtfpna\n",
              "0       USA  1950  0.617148\n",
              "1       USA  1951  0.629588\n",
              "2       USA  1952  0.638451\n",
              "3       USA  1953  0.651858\n",
              "4       USA  1954  0.646179\n",
              "..      ...   ...       ...\n",
              "181     MEX  2007  1.013673\n",
              "182     MEX  2008  0.991548\n",
              "183     MEX  2009  0.915879\n",
              "184     MEX  2010  0.941604\n",
              "185     MEX  2011  0.955766\n",
              "\n",
              "[186 rows x 3 columns]>"
            ]
          },
          "metadata": {
            "tags": []
          },
          "execution_count": 4
        }
      ]
    },
    {
      "cell_type": "code",
      "metadata": {
        "id": "WZjhSpWhU6aP",
        "colab_type": "code",
        "colab": {
          "base_uri": "https://localhost:8080/",
          "height": 287
        },
        "outputId": "52c9e2ec-03a6-4835-a4eb-5a3acab81307"
      },
      "source": [
        "data.describe() # With (descibre) we can get some informations regarding the max and min values, the mean of each column, each quartile, so we can have a better understanding of it"
      ],
      "execution_count": 5,
      "outputs": [
        {
          "output_type": "execute_result",
          "data": {
            "text/html": [
              "<div>\n",
              "<style scoped>\n",
              "    .dataframe tbody tr th:only-of-type {\n",
              "        vertical-align: middle;\n",
              "    }\n",
              "\n",
              "    .dataframe tbody tr th {\n",
              "        vertical-align: top;\n",
              "    }\n",
              "\n",
              "    .dataframe thead th {\n",
              "        text-align: right;\n",
              "    }\n",
              "</style>\n",
              "<table border=\"1\" class=\"dataframe\">\n",
              "  <thead>\n",
              "    <tr style=\"text-align: right;\">\n",
              "      <th></th>\n",
              "      <th>year</th>\n",
              "      <th>rtfpna</th>\n",
              "    </tr>\n",
              "  </thead>\n",
              "  <tbody>\n",
              "    <tr>\n",
              "      <th>count</th>\n",
              "      <td>186.000000</td>\n",
              "      <td>186.000000</td>\n",
              "    </tr>\n",
              "    <tr>\n",
              "      <th>mean</th>\n",
              "      <td>1980.500000</td>\n",
              "      <td>0.975614</td>\n",
              "    </tr>\n",
              "    <tr>\n",
              "      <th>std</th>\n",
              "      <td>17.943831</td>\n",
              "      <td>0.177538</td>\n",
              "    </tr>\n",
              "    <tr>\n",
              "      <th>min</th>\n",
              "      <td>1950.000000</td>\n",
              "      <td>0.617148</td>\n",
              "    </tr>\n",
              "    <tr>\n",
              "      <th>25%</th>\n",
              "      <td>1965.000000</td>\n",
              "      <td>0.855143</td>\n",
              "    </tr>\n",
              "    <tr>\n",
              "      <th>50%</th>\n",
              "      <td>1980.500000</td>\n",
              "      <td>0.995047</td>\n",
              "    </tr>\n",
              "    <tr>\n",
              "      <th>75%</th>\n",
              "      <td>1996.000000</td>\n",
              "      <td>1.046348</td>\n",
              "    </tr>\n",
              "    <tr>\n",
              "      <th>max</th>\n",
              "      <td>2011.000000</td>\n",
              "      <td>1.383718</td>\n",
              "    </tr>\n",
              "  </tbody>\n",
              "</table>\n",
              "</div>"
            ],
            "text/plain": [
              "              year      rtfpna\n",
              "count   186.000000  186.000000\n",
              "mean   1980.500000    0.975614\n",
              "std      17.943831    0.177538\n",
              "min    1950.000000    0.617148\n",
              "25%    1965.000000    0.855143\n",
              "50%    1980.500000    0.995047\n",
              "75%    1996.000000    1.046348\n",
              "max    2011.000000    1.383718"
            ]
          },
          "metadata": {
            "tags": []
          },
          "execution_count": 5
        }
      ]
    },
    {
      "cell_type": "code",
      "metadata": {
        "id": "Iu2ibYRSVTwF",
        "colab_type": "code",
        "colab": {
          "base_uri": "https://localhost:8080/",
          "height": 87
        },
        "outputId": "1d4b109d-77b0-4612-d717-2a02059d70e1"
      },
      "source": [
        "data.nunique() # We can check the uniqueness of our columns using (nunique), we can see that we have only 3 countries(isocode), have 62 years represented (from 1950 to 2011) and have 184 values for RTFPNA\n"
      ],
      "execution_count": 6,
      "outputs": [
        {
          "output_type": "execute_result",
          "data": {
            "text/plain": [
              "isocode      3\n",
              "year        62\n",
              "rtfpna     184\n",
              "dtype: int64"
            ]
          },
          "metadata": {
            "tags": []
          },
          "execution_count": 6
        }
      ]
    },
    {
      "cell_type": "code",
      "metadata": {
        "id": "qHUup23cVrlE",
        "colab_type": "code",
        "colab": {
          "base_uri": "https://localhost:8080/",
          "height": 87
        },
        "outputId": "4f0e9537-51f5-4c05-c4b1-5306282ad6d9"
      },
      "source": [
        "data.isnull().sum() #Finally, we can check if we have any null value in the dataset"
      ],
      "execution_count": 7,
      "outputs": [
        {
          "output_type": "execute_result",
          "data": {
            "text/plain": [
              "isocode    0\n",
              "year       0\n",
              "rtfpna     0\n",
              "dtype: int64"
            ]
          },
          "metadata": {
            "tags": []
          },
          "execution_count": 7
        }
      ]
    },
    {
      "cell_type": "markdown",
      "metadata": {
        "id": "OegqIO2CWNKb",
        "colab_type": "text"
      },
      "source": [
        "## Data Visualization"
      ]
    },
    {
      "cell_type": "markdown",
      "metadata": {
        "id": "CDTy1eOUWVQ_",
        "colab_type": "text"
      },
      "source": [
        "Now, we'll plot some views of this dataset, so we can get a look on it and we can discover patterns, spot anomalies, frame our hypothesis and check our assumptions"
      ]
    },
    {
      "cell_type": "code",
      "metadata": {
        "id": "_S8X971PWQTG",
        "colab_type": "code",
        "colab": {
          "base_uri": "https://localhost:8080/",
          "height": 384
        },
        "outputId": "7b3d4049-a669-49cb-a512-63cc3cf29b05"
      },
      "source": [
        "#Plot using the 3 Countries (isocode) by Year, using Seaborn\n",
        "lm = sns.lmplot(x='year', y='rtfpna', data=data,fit_reg=False, hue='isocode')\n",
        "fig = lm.fig \n",
        "fig.suptitle(x=0.5, y=1, t='Distribution of RTFPNA by Country per Year',va='center',fontsize=10)\n",
        "plt.show()"
      ],
      "execution_count": 25,
      "outputs": [
        {
          "output_type": "display_data",
          "data": {
            "image/png": "[encoded data removed]",
            "text/plain": [
              "<Figure size 417.75x360 with 1 Axes>"
            ]
          },
          "metadata": {
            "tags": [],
            "needs_background": "light"
          }
        }
      ]
    },
    {
      "cell_type": "code",
      "metadata": {
        "id": "M6BfNhocWHx5",
        "colab_type": "code",
        "colab": {
          "base_uri": "https://localhost:8080/",
          "height": 621
        },
        "outputId": "75357128-0b43-437e-e87d-486c6bc6180e"
      },
      "source": [
        "# Pivoting the table so that each region is a column and each row is a year.\n",
        "data1 = data.pivot_table(index='year',columns='isocode',values='rtfpna')\n",
        "\n",
        "# Ploting again using another format, with lines and in a bigger size\n",
        "fig, ax = plt.subplots(figsize=(20,10))\n",
        "plt.title('Distribution of RTFPNA by Country per Year')\n",
        "plt.xlabel('Years')\n",
        "plt.ylabel('RFPNA')\n",
        "plt.plot(data1)\n",
        "ax.plot(data1.MEX, label='MEX', color='green')\n",
        "ax.plot(data1.CAN, label='CAN', color='red')\n",
        "ax.plot(data1.USA, label='USA', color='blue')\n",
        "leg = ax.legend()\n",
        "plt.show()"
      ],
      "execution_count": 30,
      "outputs": [
        {
          "output_type": "display_data",
          "data": {
            "image/png": "[encoded data removed]",
            "text/plain": [
              "<Figure size 1440x720 with 1 Axes>"
            ]
          },
          "metadata": {
            "tags": [],
            "needs_background": "light"
          }
        }
      ]
    },
    {
      "cell_type": "code",
      "metadata": {
        "id": "2FOxVVSba3MI",
        "colab_type": "code",
        "colab": {
          "base_uri": "https://localhost:8080/",
          "height": 321
        },
        "outputId": "e2f1a900-b631-4ca2-f01c-f05db9e20574"
      },
      "source": [
        "# Ploting the RTPFNA by Country, which allow us to get the distribution of the in a image.\n",
        "fig, ax =plt.subplots(1,3)\n",
        "fig.suptitle(x=0.5, y=1, t='Histogram of RTFPNA by Country',va='center',fontsize=14)\n",
        "sns.distplot(data1.USA, color='blue', ax=ax[0])\n",
        "sns.distplot(data1.CAN, color='red', ax=ax[1])\n",
        "sns.distplot(data1.MEX, color='green', ax=ax[2])\n",
        "fig.show()"
      ],
      "execution_count": 45,
      "outputs": [
        {
          "output_type": "display_data",
          "data": {
            "image/png": "[encoded data removed]",
            "text/plain": [
              "<Figure size 432x288 with 3 Axes>"
            ]
          },
          "metadata": {
            "tags": [],
            "needs_background": "light"
          }
        }
      ]
    },
    {
      "cell_type": "code",
      "metadata": {
        "id": "P_KSgTGucCgT",
        "colab_type": "code",
        "colab": {
          "base_uri": "https://localhost:8080/",
          "height": 264
        },
        "outputId": "f5f3489f-5bf3-4aaa-88d2-acb717dbe2e5"
      },
      "source": [
        "# Ploting all of them in one figure.\n",
        "sns.kdeplot(data1.USA, label=\"USA\")\n",
        "sns.kdeplot(data1.CAN, label=\"CAN\", color='red')\n",
        "sns.kdeplot(data1.MEX, label=\"MEX\", color='green')\n",
        "plt.legend();"
      ],
      "execution_count": 46,
      "outputs": [
        {
          "output_type": "display_data",
          "data": {
            "image/png": "[encoded data removed]",
            "text/plain": [
              "<Figure size 432x288 with 1 Axes>"
            ]
          },
          "metadata": {
            "tags": [],
            "needs_background": "light"
          }
        }
      ]
    },
    {
      "cell_type": "markdown",
      "metadata": {
        "id": "13fTp9_0cnXi",
        "colab_type": "text"
      },
      "source": [
        "## Forecasting"
      ]
    },
    {
      "cell_type": "markdown",
      "metadata": {
        "id": "Soa60-QCcsHt",
        "colab_type": "text"
      },
      "source": [
        "Here,  we'll show some tryouts of forecasting, trying to get the best result so we could use it in the future"
      ]
    },
    {
      "cell_type": "code",
      "metadata": {
        "id": "q2JKMAGxc1y4",
        "colab_type": "code",
        "colab": {
          "base_uri": "https://localhost:8080/",
          "height": 34
        },
        "outputId": "9c83a89f-23cc-4ba9-d4c9-9c17855f7d29"
      },
      "source": [
        "#Create a new dataframe with only the 'USA' column\n",
        "data2 = data1.filter(['USA'])\n",
        "\n",
        "#Converting the dataframe to a numpy array\n",
        "data2 = data2.values\n",
        "\n",
        "#Get /Compute the number of rows to train the model on\n",
        "training_data_len = math.ceil( len(data2) *.8)\n",
        "\n",
        "#Scale the all of the data to be values between 0 and 1 \n",
        "scaler = MinMaxScaler(feature_range=(0, 1)) \n",
        "scaled_data = scaler.fit_transform(data2)\n",
        "\n",
        "#Create the scaled training data set \n",
        "train_data = scaled_data[0:training_data_len  , : ]\n",
        "\n",
        "#Split the data into x_train and y_train data sets\n",
        "x_train=[]\n",
        "y_train=[]\n",
        "for i in range(1,len(train_data)):\n",
        "    x_train.append(train_data[i-1:i,0])\n",
        "    y_train.append(train_data[i,0])\n",
        "\n",
        "#Convert x_train and y_train to numpy arrays\n",
        "x_train, y_train = np.array(x_train), np.array(y_train)\n",
        "\n",
        "#Reshape the data into the shape accepted by the LSTM\n",
        "x_train = np.reshape(x_train, (x_train.shape[0],x_train.shape[1],1))\n",
        "x_train.shape"
      ],
      "execution_count": 48,
      "outputs": [
        {
          "output_type": "execute_result",
          "data": {
            "text/plain": [
              "(49, 1, 1)"
            ]
          },
          "metadata": {
            "tags": []
          },
          "execution_count": 48
        }
      ]
    },
    {
      "cell_type": "code",
      "metadata": {
        "id": "z9JQZyT1dK5Q",
        "colab_type": "code",
        "colab": {}
      },
      "source": [
        "# Now we set how we want our model, set our hidden layers, activation functions and how we want our return, in this case we want 1 value. Setted this one by trial and erro to get the best result.\n",
        "model = Sequential()\n",
        "model.add(LSTM(50, activation='relu', return_sequences=True, input_shape=(x_train.shape[1],1)))\n",
        "model.add(LSTM(50, return_sequences=False))\n",
        "model.add(Dense(25, activation='linear'))\n",
        "model.add(Dense(1))\n",
        "#Compile the model\n",
        "model.compile(optimizer='rmsprop', loss='mean_squared_error')"
      ],
      "execution_count": 70,
      "outputs": []
    },
    {
      "cell_type": "code",
      "metadata": {
        "id": "FU3ZWRYLdhkU",
        "colab_type": "code",
        "colab": {
          "base_uri": "https://localhost:8080/",
          "height": 1000
        },
        "outputId": "0f85e469-79dd-4d8f-b5ae-1dfa093cd201"
      },
      "source": [
        "#Train the model\n",
        "model.fit(x_train, y_train, batch_size=1, epochs=100)"
      ],
      "execution_count": 71,
      "outputs": [
        {
          "output_type": "stream",
          "text": [
            "Epoch 1/100\n",
            "49/49 [==============================] - 1s 14ms/step - loss: 0.0529\n",
            "Epoch 2/100\n",
            "49/49 [==============================] - 0s 2ms/step - loss: 0.0248\n",
            "Epoch 3/100\n",
            "49/49 [==============================] - 0s 2ms/step - loss: 0.0183\n",
            "Epoch 4/100\n",
            "49/49 [==============================] - 0s 3ms/step - loss: 0.0109\n",
            "Epoch 5/100\n",
            "49/49 [==============================] - 0s 3ms/step - loss: 0.0048\n",
            "Epoch 6/100\n",
            "49/49 [==============================] - 0s 3ms/step - loss: 0.0021\n",
            "Epoch 7/100\n",
            "49/49 [==============================] - 0s 3ms/step - loss: 0.0015\n",
            "Epoch 8/100\n",
            "49/49 [==============================] - 0s 3ms/step - loss: 0.0015\n",
            "Epoch 9/100\n",
            "49/49 [==============================] - 0s 3ms/step - loss: 0.0014\n",
            "Epoch 10/100\n",
            "49/49 [==============================] - 0s 3ms/step - loss: 0.0015\n",
            "Epoch 11/100\n",
            "49/49 [==============================] - 0s 3ms/step - loss: 0.0015\n",
            "Epoch 12/100\n",
            "49/49 [==============================] - 0s 3ms/step - loss: 0.0015\n",
            "Epoch 13/100\n",
            "49/49 [==============================] - 0s 3ms/step - loss: 0.0013\n",
            "Epoch 14/100\n",
            "49/49 [==============================] - 0s 3ms/step - loss: 0.0013\n",
            "Epoch 15/100\n",
            "49/49 [==============================] - 0s 2ms/step - loss: 0.0014\n",
            "Epoch 16/100\n",
            "49/49 [==============================] - 0s 2ms/step - loss: 0.0014\n",
            "Epoch 17/100\n",
            "49/49 [==============================] - 0s 3ms/step - loss: 8.9525e-04\n",
            "Epoch 18/100\n",
            "49/49 [==============================] - 0s 3ms/step - loss: 0.0017\n",
            "Epoch 19/100\n",
            "49/49 [==============================] - 0s 3ms/step - loss: 0.0014\n",
            "Epoch 20/100\n",
            "49/49 [==============================] - 0s 3ms/step - loss: 0.0012\n",
            "Epoch 21/100\n",
            "49/49 [==============================] - 0s 3ms/step - loss: 0.0014\n",
            "Epoch 22/100\n",
            "49/49 [==============================] - 0s 3ms/step - loss: 0.0015\n",
            "Epoch 23/100\n",
            "49/49 [==============================] - 0s 3ms/step - loss: 0.0012\n",
            "Epoch 24/100\n",
            "49/49 [==============================] - 0s 3ms/step - loss: 0.0012\n",
            "Epoch 25/100\n",
            "49/49 [==============================] - 0s 2ms/step - loss: 0.0014\n",
            "Epoch 26/100\n",
            "49/49 [==============================] - 0s 3ms/step - loss: 0.0013\n",
            "Epoch 27/100\n",
            "49/49 [==============================] - 0s 3ms/step - loss: 0.0014\n",
            "Epoch 28/100\n",
            "49/49 [==============================] - 0s 3ms/step - loss: 0.0014\n",
            "Epoch 29/100\n",
            "49/49 [==============================] - 0s 3ms/step - loss: 0.0014\n",
            "Epoch 30/100\n",
            "49/49 [==============================] - 0s 2ms/step - loss: 0.0015\n",
            "Epoch 31/100\n",
            "49/49 [==============================] - 0s 3ms/step - loss: 0.0015\n",
            "Epoch 32/100\n",
            "49/49 [==============================] - 0s 3ms/step - loss: 0.0014\n",
            "Epoch 33/100\n",
            "49/49 [==============================] - 0s 3ms/step - loss: 0.0011\n",
            "Epoch 34/100\n",
            "49/49 [==============================] - 0s 3ms/step - loss: 0.0013\n",
            "Epoch 35/100\n",
            "49/49 [==============================] - 0s 3ms/step - loss: 0.0011\n",
            "Epoch 36/100\n",
            "49/49 [==============================] - 0s 3ms/step - loss: 0.0015\n",
            "Epoch 37/100\n",
            "49/49 [==============================] - 0s 3ms/step - loss: 0.0013\n",
            "Epoch 38/100\n",
            "49/49 [==============================] - 0s 2ms/step - loss: 0.0012\n",
            "Epoch 39/100\n",
            "49/49 [==============================] - 0s 3ms/step - loss: 0.0014\n",
            "Epoch 40/100\n",
            "49/49 [==============================] - 0s 3ms/step - loss: 0.0011\n",
            "Epoch 41/100\n",
            "49/49 [==============================] - 0s 3ms/step - loss: 0.0013\n",
            "Epoch 42/100\n",
            "49/49 [==============================] - 0s 3ms/step - loss: 0.0011\n",
            "Epoch 43/100\n",
            "49/49 [==============================] - 0s 3ms/step - loss: 0.0014\n",
            "Epoch 44/100\n",
            "49/49 [==============================] - 0s 3ms/step - loss: 9.4140e-04\n",
            "Epoch 45/100\n",
            "49/49 [==============================] - 0s 2ms/step - loss: 0.0012\n",
            "Epoch 46/100\n",
            "49/49 [==============================] - 0s 3ms/step - loss: 0.0012\n",
            "Epoch 47/100\n",
            "49/49 [==============================] - 0s 3ms/step - loss: 0.0013\n",
            "Epoch 48/100\n",
            "49/49 [==============================] - 0s 3ms/step - loss: 0.0013\n",
            "Epoch 49/100\n",
            "49/49 [==============================] - 0s 3ms/step - loss: 0.0011\n",
            "Epoch 50/100\n",
            "49/49 [==============================] - 0s 3ms/step - loss: 0.0011\n",
            "Epoch 51/100\n",
            "49/49 [==============================] - 0s 3ms/step - loss: 0.0013\n",
            "Epoch 52/100\n",
            "49/49 [==============================] - 0s 3ms/step - loss: 0.0013\n",
            "Epoch 53/100\n",
            "49/49 [==============================] - 0s 3ms/step - loss: 0.0011\n",
            "Epoch 54/100\n",
            "49/49 [==============================] - 0s 3ms/step - loss: 0.0013\n",
            "Epoch 55/100\n",
            "49/49 [==============================] - 0s 2ms/step - loss: 0.0014\n",
            "Epoch 56/100\n",
            "49/49 [==============================] - 0s 3ms/step - loss: 0.0012\n",
            "Epoch 57/100\n",
            "49/49 [==============================] - 0s 3ms/step - loss: 0.0013\n",
            "Epoch 58/100\n",
            "49/49 [==============================] - 0s 3ms/step - loss: 0.0013\n",
            "Epoch 59/100\n",
            "49/49 [==============================] - 0s 3ms/step - loss: 0.0012\n",
            "Epoch 60/100\n",
            "49/49 [==============================] - 0s 4ms/step - loss: 0.0013\n",
            "Epoch 61/100\n",
            "49/49 [==============================] - 0s 3ms/step - loss: 0.0011\n",
            "Epoch 62/100\n",
            "49/49 [==============================] - 0s 3ms/step - loss: 0.0012\n",
            "Epoch 63/100\n",
            "49/49 [==============================] - 0s 3ms/step - loss: 0.0013\n",
            "Epoch 64/100\n",
            "49/49 [==============================] - 0s 2ms/step - loss: 0.0013\n",
            "Epoch 65/100\n",
            "49/49 [==============================] - 0s 3ms/step - loss: 0.0014\n",
            "Epoch 66/100\n",
            "49/49 [==============================] - 0s 3ms/step - loss: 0.0013\n",
            "Epoch 67/100\n",
            "49/49 [==============================] - 0s 3ms/step - loss: 0.0012\n",
            "Epoch 68/100\n",
            "49/49 [==============================] - 0s 3ms/step - loss: 0.0013\n",
            "Epoch 69/100\n",
            "49/49 [==============================] - 0s 3ms/step - loss: 0.0012\n",
            "Epoch 70/100\n",
            "49/49 [==============================] - 0s 3ms/step - loss: 0.0014\n",
            "Epoch 71/100\n",
            "49/49 [==============================] - 0s 2ms/step - loss: 0.0012\n",
            "Epoch 72/100\n",
            "49/49 [==============================] - 0s 3ms/step - loss: 0.0014\n",
            "Epoch 73/100\n",
            "49/49 [==============================] - 0s 2ms/step - loss: 0.0013\n",
            "Epoch 74/100\n",
            "49/49 [==============================] - 0s 2ms/step - loss: 0.0011\n",
            "Epoch 75/100\n",
            "49/49 [==============================] - 0s 2ms/step - loss: 0.0013\n",
            "Epoch 76/100\n",
            "49/49 [==============================] - 0s 3ms/step - loss: 0.0011\n",
            "Epoch 77/100\n",
            "49/49 [==============================] - 0s 2ms/step - loss: 0.0014\n",
            "Epoch 78/100\n",
            "49/49 [==============================] - 0s 2ms/step - loss: 0.0013\n",
            "Epoch 79/100\n",
            "49/49 [==============================] - 0s 2ms/step - loss: 0.0013\n",
            "Epoch 80/100\n",
            "49/49 [==============================] - 0s 2ms/step - loss: 0.0013\n",
            "Epoch 81/100\n",
            "49/49 [==============================] - 0s 2ms/step - loss: 0.0012\n",
            "Epoch 82/100\n",
            "49/49 [==============================] - 0s 2ms/step - loss: 0.0014\n",
            "Epoch 83/100\n",
            "49/49 [==============================] - 0s 3ms/step - loss: 0.0011\n",
            "Epoch 84/100\n",
            "49/49 [==============================] - 0s 2ms/step - loss: 0.0014\n",
            "Epoch 85/100\n",
            "49/49 [==============================] - 0s 2ms/step - loss: 0.0013\n",
            "Epoch 86/100\n",
            "49/49 [==============================] - 0s 2ms/step - loss: 0.0012\n",
            "Epoch 87/100\n",
            "49/49 [==============================] - 0s 2ms/step - loss: 0.0012\n",
            "Epoch 88/100\n",
            "49/49 [==============================] - 0s 2ms/step - loss: 0.0014\n",
            "Epoch 89/100\n",
            "49/49 [==============================] - 0s 2ms/step - loss: 0.0014\n",
            "Epoch 90/100\n",
            "49/49 [==============================] - 0s 2ms/step - loss: 0.0013\n",
            "Epoch 91/100\n",
            "49/49 [==============================] - 0s 3ms/step - loss: 0.0014\n",
            "Epoch 92/100\n",
            "49/49 [==============================] - 0s 2ms/step - loss: 9.6090e-04\n",
            "Epoch 93/100\n",
            "49/49 [==============================] - 0s 2ms/step - loss: 0.0011\n",
            "Epoch 94/100\n",
            "49/49 [==============================] - 0s 2ms/step - loss: 0.0013\n",
            "Epoch 95/100\n",
            "49/49 [==============================] - 0s 3ms/step - loss: 0.0013\n",
            "Epoch 96/100\n",
            "49/49 [==============================] - 0s 3ms/step - loss: 0.0012\n",
            "Epoch 97/100\n",
            "49/49 [==============================] - 0s 2ms/step - loss: 0.0011\n",
            "Epoch 98/100\n",
            "49/49 [==============================] - 0s 2ms/step - loss: 0.0013\n",
            "Epoch 99/100\n",
            "49/49 [==============================] - 0s 2ms/step - loss: 0.0014\n",
            "Epoch 100/100\n",
            "49/49 [==============================] - 0s 3ms/step - loss: 0.0012\n"
          ],
          "name": "stdout"
        },
        {
          "output_type": "execute_result",
          "data": {
            "text/plain": [
              "<keras.callbacks.callbacks.History at 0x7fc6611b2ba8>"
            ]
          },
          "metadata": {
            "tags": []
          },
          "execution_count": 71
        }
      ]
    },
    {
      "cell_type": "code",
      "metadata": {
        "id": "afhbcnt4fS0u",
        "colab_type": "code",
        "colab": {
          "base_uri": "https://localhost:8080/",
          "height": 34
        },
        "outputId": "fa152fb3-fa5d-4d49-9d24-8baa635a422f"
      },
      "source": [
        "#Test data set\n",
        "test_data = scaled_data[training_data_len - 1: , : ]\n",
        "#Create the x_test and y_test data sets\n",
        "x_test = []\n",
        "y_test =  data2[training_data_len : , : ]\n",
        "for i in range(1,len(test_data)):\n",
        "    x_test.append(test_data[i-1:i,0])\n",
        "\n",
        "#Convert x_test to a numpy array \n",
        "x_test = np.array(x_test)\n",
        "\n",
        "#Reshape the data into the shape accepted by the LSTM\n",
        "x_test = np.reshape(x_test, (x_test.shape[0],x_test.shape[1],1))\n",
        "\n",
        "#Getting the models predicted price values\n",
        "predictions = model.predict(x_test) \n",
        "predictions = scaler.inverse_transform(predictions) #Undo scaling\n",
        "\n",
        "#Calculate/Get the value of RMSE\n",
        "rmse=np.sqrt(np.mean(((predictions- y_test)**2)))\n",
        "rmse"
      ],
      "execution_count": 72,
      "outputs": [
        {
          "output_type": "execute_result",
          "data": {
            "text/plain": [
              "0.014806423624032441"
            ]
          },
          "metadata": {
            "tags": []
          },
          "execution_count": 72
        }
      ]
    },
    {
      "cell_type": "code",
      "metadata": {
        "id": "Az2oi4GbfmK1",
        "colab_type": "code",
        "colab": {
          "base_uri": "https://localhost:8080/",
          "height": 515
        },
        "outputId": "c57c52da-c18d-4bc2-e285-7e115a978892"
      },
      "source": [
        "#Plot/Create the data for the graph\n",
        "train = data1[ :training_data_len]\n",
        "valid = data1[training_data_len: ]\n",
        "valid['Predictions'] = predictions\n",
        "\n",
        "\n",
        "#Visualize the data of how our model behave with the already known data\n",
        "plt.figure(figsize=(16,8))\n",
        "plt.title('Train & Test Model')\n",
        "plt.xlabel('Years', fontsize=12)\n",
        "plt.ylabel('RFTPNA', fontsize=12)\n",
        "plt.plot(train['USA'])\n",
        "plt.plot(valid[['USA', 'Predictions']])\n",
        "plt.legend(['Train', 'Val', 'Predictions'], loc='lower right')\n",
        "plt.show()\n",
        "  "
      ],
      "execution_count": 73,
      "outputs": [
        {
          "output_type": "display_data",
          "data": {
            "image/png": "[encoded data removed]",
            "text/plain": [
              "<Figure size 1152x576 with 1 Axes>"
            ]
          },
          "metadata": {
            "tags": [],
            "needs_background": "light"
          }
        }
      ]
    },
    {
      "cell_type": "code",
      "metadata": {
        "id": "CfcGDXXIgEkd",
        "colab_type": "code",
        "colab": {
          "base_uri": "https://localhost:8080/",
          "height": 515
        },
        "outputId": "ef145365-8dd8-4a29-ee30-0da3c39b98ce"
      },
      "source": [
        "#Creating an copy of our used dataset, to try with LSTM to predict the 10 years\n",
        "data3 = data2.copy()\n",
        "\n",
        "#Always getting the last line of our dataset to try to predict the next year, which we use a loop to get 10 years.\n",
        "for i in range(10):\n",
        "  x = model.predict(np.array([[[data3[-1][0]]]]))\n",
        "  data3 = np.append(data3, x, 0)\n",
        "\n",
        "#Visualize the data of our model\n",
        "plt.figure(figsize=(16,8))\n",
        "plt.title('Prediction Model')\n",
        "plt.xlabel('Years', fontsize=12)\n",
        "plt.ylabel('RFTPNA', fontsize=12)\n",
        "plt.plot(data3)\n",
        "plt.legend(['Predictions'], loc='lower right')\n",
        "plt.show()"
      ],
      "execution_count": 74,
      "outputs": [
        {
          "output_type": "display_data",
          "data": {
            "image/png": "[encoded data removed]",
            "text/plain": [
              "<Figure size 1152x576 with 1 Axes>"
            ]
          },
          "metadata": {
            "tags": [],
            "needs_background": "light"
          }
        }
      ]
    },
    {
      "cell_type": "markdown",
      "metadata": {
        "id": "jGCStidtjPui",
        "colab_type": "text"
      },
      "source": [
        "Okay, now, let's try using some Decision Tree"
      ]
    },
    {
      "cell_type": "code",
      "metadata": {
        "id": "S9rUz0nxjLwP",
        "colab_type": "code",
        "colab": {
          "base_uri": "https://localhost:8080/",
          "height": 227
        },
        "outputId": "12086f07-4e3f-4ade-9ad5-07d60dea3568"
      },
      "source": [
        "usa = data1[['USA']]\n",
        "usa.head()"
      ],
      "execution_count": 136,
      "outputs": [
        {
          "output_type": "execute_result",
          "data": {
            "text/html": [
              "<div>\n",
              "<style scoped>\n",
              "    .dataframe tbody tr th:only-of-type {\n",
              "        vertical-align: middle;\n",
              "    }\n",
              "\n",
              "    .dataframe tbody tr th {\n",
              "        vertical-align: top;\n",
              "    }\n",
              "\n",
              "    .dataframe thead th {\n",
              "        text-align: right;\n",
              "    }\n",
              "</style>\n",
              "<table border=\"1\" class=\"dataframe\">\n",
              "  <thead>\n",
              "    <tr style=\"text-align: right;\">\n",
              "      <th>isocode</th>\n",
              "      <th>USA</th>\n",
              "    </tr>\n",
              "    <tr>\n",
              "      <th>year</th>\n",
              "      <th></th>\n",
              "    </tr>\n",
              "  </thead>\n",
              "  <tbody>\n",
              "    <tr>\n",
              "      <th>1950</th>\n",
              "      <td>0.617148</td>\n",
              "    </tr>\n",
              "    <tr>\n",
              "      <th>1951</th>\n",
              "      <td>0.629588</td>\n",
              "    </tr>\n",
              "    <tr>\n",
              "      <th>1952</th>\n",
              "      <td>0.638451</td>\n",
              "    </tr>\n",
              "    <tr>\n",
              "      <th>1953</th>\n",
              "      <td>0.651858</td>\n",
              "    </tr>\n",
              "    <tr>\n",
              "      <th>1954</th>\n",
              "      <td>0.646179</td>\n",
              "    </tr>\n",
              "  </tbody>\n",
              "</table>\n",
              "</div>"
            ],
            "text/plain": [
              "isocode       USA\n",
              "year             \n",
              "1950     0.617148\n",
              "1951     0.629588\n",
              "1952     0.638451\n",
              "1953     0.651858\n",
              "1954     0.646179"
            ]
          },
          "metadata": {
            "tags": []
          },
          "execution_count": 136
        }
      ]
    },
    {
      "cell_type": "code",
      "metadata": {
        "id": "HChQ6cU5kuz4",
        "colab_type": "code",
        "colab": {}
      },
      "source": [
        "#Variavel de predição futura - 10 anos\n",
        "#future_year=10\n",
        "\n",
        "#Criar coluna nova com o target\n",
        "usa['Predict'] = usa[['USA']]\n",
        "\n",
        "#Criar uma feature no dataset e converter para array numpy e remover os \"X\" anos\n",
        "x = np.array(usa.drop(['Predict'],1))\n",
        "\n",
        "#Criar o dataset que queremos (y) e conveter para numpy e pegar todos os dados exceto os anos X\n",
        "y= np.array(usa['Predict'])\n"
      ],
      "execution_count": 137,
      "outputs": []
    },
    {
      "cell_type": "code",
      "metadata": {
        "id": "oAeKstxMlEVb",
        "colab_type": "code",
        "colab": {}
      },
      "source": [
        "#Criar os modelos\n",
        "#Decision Tree de regressão\n",
        "decision_tree = DecisionTreeRegressor().fit(x, y)"
      ],
      "execution_count": 138,
      "outputs": []
    },
    {
      "cell_type": "code",
      "metadata": {
        "id": "gEtz6-RqkAH0",
        "colab_type": "code",
        "colab": {}
      },
      "source": [
        "x_forecast = np.array([[x] for x in data1['USA']])\n",
        "\n",
        "for i in range(10):\n",
        "  x = decision_tree.predict(np.array([[x_forecast[-1][0]]]))\n",
        "  #print(x_forecast[-1][0])\n",
        "  x_forecast = np.append(x_forecast,[x],0)"
      ],
      "execution_count": 139,
      "outputs": []
    },
    {
      "cell_type": "code",
      "metadata": {
        "id": "l_lss1u9ps2o",
        "colab_type": "code",
        "colab": {
          "base_uri": "https://localhost:8080/",
          "height": 566
        },
        "outputId": "a662d2b3-1030-46b6-d1eb-b623339de172"
      },
      "source": [
        "plt.figure(figsize=(18,9))\n",
        "plt.title('Teste')\n",
        "plt.xlabel('Years')\n",
        "plt.ylabel('Rfpna')\n",
        "plt.plot(x_forecast)\n",
        "plt.show()"
      ],
      "execution_count": 147,
      "outputs": [
        {
          "output_type": "display_data",
          "data": {
            "image/png": "[encoded data removed]",
            "text/plain": [
              "<Figure size 1296x648 with 1 Axes>"
            ]
          },
          "metadata": {
            "tags": [],
            "needs_background": "light"
          }
        }
      ]
    },
    {
      "cell_type": "markdown",
      "metadata": {
        "id": "9EMW5zNNmpl9",
        "colab_type": "text"
      },
      "source": [
        "Decision tree tende a repetir os valores, o modelo está defasado e não é recomendado."
      ]
    },
    {
      "cell_type": "markdown",
      "metadata": {
        "id": "Lm-0fTN0mtGb",
        "colab_type": "text"
      },
      "source": [
        "Now, let's try using ARIMA to forecast"
      ]
    },
    {
      "cell_type": "code",
      "metadata": {
        "id": "ahgADDqymkUI",
        "colab_type": "code",
        "colab": {}
      },
      "source": [
        "# create a differenced series\n",
        "def difference(dataset, interval=1):\n",
        "\tdiff = list()\n",
        "\tfor i in range(interval, len(dataset)):\n",
        "\t\tvalue = dataset[i] - dataset[i - interval]\n",
        "\t\tdiff.append(value)\n",
        "\treturn np.array(diff)\n",
        "\n",
        "# invert differenced value\n",
        "def inverse_difference(history, yhat, interval=1):\n",
        "\treturn yhat + history[-interval]\n"
      ],
      "execution_count": 140,
      "outputs": []
    },
    {
      "cell_type": "code",
      "metadata": {
        "id": "4bJuPMaomkLi",
        "colab_type": "code",
        "colab": {}
      },
      "source": [
        "#Creat a Pivot Table to use\n",
        "series1 = data.pivot_table(index='year',columns='isocode',values='rtfpna')\n",
        "\n",
        "# Using only USA column to start our forecast\n",
        "usa = series1[['USA']]\n",
        "X = usa.values\n",
        "years_time = 1\n",
        "differenced = difference(X, years_time)\n",
        "\n",
        "# Fitting the model\n",
        "model = ARIMA(differenced, order=(10,0,1))\n",
        "model_fit = model.fit(disp=0)"
      ],
      "execution_count": 141,
      "outputs": []
    },
    {
      "cell_type": "code",
      "metadata": {
        "id": "J9j7K3AhnMXe",
        "colab_type": "code",
        "colab": {}
      },
      "source": [
        "# Multi-step out-of-sample forecast, trying for 10 steps, which represent our years\n",
        "forecast = model_fit.forecast(steps=10)[0]"
      ],
      "execution_count": 112,
      "outputs": []
    },
    {
      "cell_type": "code",
      "metadata": {
        "id": "zEY3FDPJnZm-",
        "colab_type": "code",
        "colab": {
          "base_uri": "https://localhost:8080/",
          "height": 194
        },
        "outputId": "4f619304-202d-4b52-dcd6-ad48d258afd9"
      },
      "source": [
        "# Invert the differenced forecast for our use\n",
        "history = [x for x in X]\n",
        "year = 2012\n",
        "x_future=[]\n",
        "\n",
        "for yhat in forecast:\n",
        "\tinverted = inverse_difference(history, yhat, years_time)\n",
        "\tprint('Day %d: %f' % (year, inverted))\n",
        "\thistory.append(inverted)\n",
        "\tyear += 1      "
      ],
      "execution_count": 115,
      "outputs": [
        {
          "output_type": "stream",
          "text": [
            "Day 2012: 1.025851\n",
            "Day 2013: 1.026810\n",
            "Day 2014: 1.031730\n",
            "Day 2015: 1.038164\n",
            "Day 2016: 1.044592\n",
            "Day 2017: 1.056417\n",
            "Day 2018: 1.067111\n",
            "Day 2019: 1.071089\n",
            "Day 2020: 1.073811\n",
            "Day 2021: 1.081338\n"
          ],
          "name": "stdout"
        }
      ]
    },
    {
      "cell_type": "code",
      "metadata": {
        "id": "4-XIT7G2nbHi",
        "colab_type": "code",
        "colab": {
          "base_uri": "https://localhost:8080/",
          "height": 634
        },
        "outputId": "b1ea4039-1639-4246-92ed-12b664fa7392"
      },
      "source": [
        "#Importing to a new dataframe to plot it all\n",
        "dates = pd.date_range(start='1950', periods=72, freq='Y')\n",
        "df = pd.DataFrame(history,index=dates, columns=['USA'])\n",
        "\n",
        "fig, ax1 = plt.subplots(figsize =(30,10))\n",
        "ax1.grid() # turn on grid #2\n",
        "ax1.set_title('TESTE')\n",
        "ax1.set_xlabel('Years')\n",
        "ax1.set_ylabel('Rfpna')\n",
        "ax1.plot(df)"
      ],
      "execution_count": 144,
      "outputs": [
        {
          "output_type": "execute_result",
          "data": {
            "text/plain": [
              "[<matplotlib.lines.Line2D at 0x7fc660c88cc0>]"
            ]
          },
          "metadata": {
            "tags": []
          },
          "execution_count": 144
        },
        {
          "output_type": "display_data",
          "data": {
            "image/png": "[encoded data removed]",
            "text/plain": [
              "<Figure size 2160x720 with 1 Axes>"
            ]
          },
          "metadata": {
            "tags": [],
            "needs_background": "light"
          }
        }
      ]
    },
    {
      "cell_type": "markdown",
      "metadata": {
        "id": "MxDpTMKzqjvY",
        "colab_type": "text"
      },
      "source": [
        "By analyzing all 3 forecasts, the recommended one should be the ARIMA Mode."
      ]
    },
    {
      "cell_type": "markdown",
      "metadata": {
        "id": "rkak8BOtqkDV",
        "colab_type": "text"
      },
      "source": [
        "\n",
        "*Can you think about another feature that could be helpful in explaining TFP series?*\n",
        "\n",
        "Yes, by analyzing the displayed variables in the PWT8, we should use this variables help analyze and understand the TFP:\n",
        "\n",
        "* CTFP = Because with it we can see the actual PPP value, the Purchasing Power Parity, which affects directly the RTFPNA growth.\n",
        "\n",
        "* csh_r = Shows the discrepancy of GDP values and the residual trade, showing the country growth.\n"
      ]
    },
    {
      "cell_type": "markdown",
      "metadata": {
        "id": "I_qmk8yGtJy5",
        "colab_type": "text"
      },
      "source": [
        "# Case 2"
      ]
    },
    {
      "cell_type": "code",
      "metadata": {
        "id": "o8leQXvyVghn",
        "colab_type": "code",
        "colab": {}
      },
      "source": [
        "comex = pd.read_csv(\"/content/data_comexstat.csv\", encoding = 'latin-1', sep = ',', parse_dates=['date'], index_col=['date'])"
      ],
      "execution_count": 150,
      "outputs": []
    },
    {
      "cell_type": "code",
      "metadata": {
        "id": "_5u_3B_kumju",
        "colab_type": "code",
        "colab": {
          "base_uri": "https://localhost:8080/",
          "height": 227
        },
        "outputId": "f4e92acd-c260-47d0-f453-56b4908a8cb9"
      },
      "source": [
        "comex.head()"
      ],
      "execution_count": 151,
      "outputs": [
        {
          "output_type": "execute_result",
          "data": {
            "text/html": [
              "<div>\n",
              "<style scoped>\n",
              "    .dataframe tbody tr th:only-of-type {\n",
              "        vertical-align: middle;\n",
              "    }\n",
              "\n",
              "    .dataframe tbody tr th {\n",
              "        vertical-align: top;\n",
              "    }\n",
              "\n",
              "    .dataframe thead th {\n",
              "        text-align: right;\n",
              "    }\n",
              "</style>\n",
              "<table border=\"1\" class=\"dataframe\">\n",
              "  <thead>\n",
              "    <tr style=\"text-align: right;\">\n",
              "      <th></th>\n",
              "      <th>product</th>\n",
              "      <th>state</th>\n",
              "      <th>country</th>\n",
              "      <th>type</th>\n",
              "      <th>route</th>\n",
              "      <th>tons</th>\n",
              "      <th>usd</th>\n",
              "    </tr>\n",
              "    <tr>\n",
              "      <th>date</th>\n",
              "      <th></th>\n",
              "      <th></th>\n",
              "      <th></th>\n",
              "      <th></th>\n",
              "      <th></th>\n",
              "      <th></th>\n",
              "      <th></th>\n",
              "    </tr>\n",
              "  </thead>\n",
              "  <tbody>\n",
              "    <tr>\n",
              "      <th>1997-01-01</th>\n",
              "      <td>corn</td>\n",
              "      <td>ES</td>\n",
              "      <td>United States</td>\n",
              "      <td>Import</td>\n",
              "      <td>Sea</td>\n",
              "      <td>44.045</td>\n",
              "      <td>113029.0</td>\n",
              "    </tr>\n",
              "    <tr>\n",
              "      <th>1997-01-01</th>\n",
              "      <td>corn</td>\n",
              "      <td>GO</td>\n",
              "      <td>Argentina</td>\n",
              "      <td>Import</td>\n",
              "      <td>Ground</td>\n",
              "      <td>54.000</td>\n",
              "      <td>36720.0</td>\n",
              "    </tr>\n",
              "    <tr>\n",
              "      <th>1997-01-01</th>\n",
              "      <td>corn</td>\n",
              "      <td>GO</td>\n",
              "      <td>Bolivia</td>\n",
              "      <td>Export</td>\n",
              "      <td>Ground</td>\n",
              "      <td>0.200</td>\n",
              "      <td>180.0</td>\n",
              "    </tr>\n",
              "    <tr>\n",
              "      <th>1997-01-01</th>\n",
              "      <td>corn</td>\n",
              "      <td>GO</td>\n",
              "      <td>United States</td>\n",
              "      <td>Export</td>\n",
              "      <td>Sea</td>\n",
              "      <td>3.488</td>\n",
              "      <td>5688.0</td>\n",
              "    </tr>\n",
              "    <tr>\n",
              "      <th>1997-01-01</th>\n",
              "      <td>corn</td>\n",
              "      <td>MG</td>\n",
              "      <td>Argentina</td>\n",
              "      <td>Import</td>\n",
              "      <td>Ground</td>\n",
              "      <td>27.000</td>\n",
              "      <td>18630.0</td>\n",
              "    </tr>\n",
              "  </tbody>\n",
              "</table>\n",
              "</div>"
            ],
            "text/plain": [
              "           product state        country    type   route    tons       usd\n",
              "date                                                                     \n",
              "1997-01-01    corn    ES  United States  Import     Sea  44.045  113029.0\n",
              "1997-01-01    corn    GO      Argentina  Import  Ground  54.000   36720.0\n",
              "1997-01-01    corn    GO        Bolivia  Export  Ground   0.200     180.0\n",
              "1997-01-01    corn    GO  United States  Export     Sea   3.488    5688.0\n",
              "1997-01-01    corn    MG      Argentina  Import  Ground  27.000   18630.0"
            ]
          },
          "metadata": {
            "tags": []
          },
          "execution_count": 151
        }
      ]
    },
    {
      "cell_type": "code",
      "metadata": {
        "id": "VsL7C_Rcum1G",
        "colab_type": "code",
        "colab": {
          "base_uri": "https://localhost:8080/",
          "height": 34
        },
        "outputId": "6ff51475-afcf-418b-d410-bfdbfc1f2e06"
      },
      "source": [
        "comex.shape"
      ],
      "execution_count": 152,
      "outputs": [
        {
          "output_type": "execute_result",
          "data": {
            "text/plain": [
              "(117965, 7)"
            ]
          },
          "metadata": {
            "tags": []
          },
          "execution_count": 152
        }
      ]
    },
    {
      "cell_type": "code",
      "metadata": {
        "id": "WR3qzQBxuoQ3",
        "colab_type": "code",
        "colab": {
          "base_uri": "https://localhost:8080/",
          "height": 283
        },
        "outputId": "35d4ffc0-ac25-4c43-9b82-e5d0cf13bd0f"
      },
      "source": [
        "comex.describe"
      ],
      "execution_count": 153,
      "outputs": [
        {
          "output_type": "execute_result",
          "data": {
            "text/plain": [
              "<bound method NDFrame.describe of            product state           country  ...   route       tons         usd\n",
              "date                                        ...                               \n",
              "1997-01-01    corn    ES     United States  ...     Sea     44.045    113029.0\n",
              "1997-01-01    corn    GO         Argentina  ...  Ground     54.000     36720.0\n",
              "1997-01-01    corn    GO           Bolivia  ...  Ground      0.200       180.0\n",
              "1997-01-01    corn    GO     United States  ...     Sea      3.488      5688.0\n",
              "1997-01-01    corn    MG         Argentina  ...  Ground     27.000     18630.0\n",
              "...            ...   ...               ...  ...     ...        ...         ...\n",
              "2019-12-01   wheat    SP         Argentina  ...     Sea  87124.765  17897516.0\n",
              "2019-12-01   wheat    SP           Ireland  ...     Sea      0.500       477.0\n",
              "2019-12-01   wheat    SP           Lebanon  ...     Sea      5.769      6726.0\n",
              "2019-12-01   wheat    SP           Liberia  ...   Other      0.025        50.0\n",
              "2019-12-01   wheat    SP  Marshall Islands  ...   Other      0.010        85.0\n",
              "\n",
              "[117965 rows x 7 columns]>"
            ]
          },
          "metadata": {
            "tags": []
          },
          "execution_count": 153
        }
      ]
    },
    {
      "cell_type": "code",
      "metadata": {
        "id": "jrk-cPS0upYv",
        "colab_type": "code",
        "colab": {
          "base_uri": "https://localhost:8080/",
          "height": 265
        },
        "outputId": "c0fd832c-d780-4fdc-ebf1-5d9dbf84347a"
      },
      "source": [
        "comex.info()"
      ],
      "execution_count": 154,
      "outputs": [
        {
          "output_type": "stream",
          "text": [
            "<class 'pandas.core.frame.DataFrame'>\n",
            "DatetimeIndex: 117965 entries, 1997-01-01 to 2019-12-01\n",
            "Data columns (total 7 columns):\n",
            " #   Column   Non-Null Count   Dtype  \n",
            "---  ------   --------------   -----  \n",
            " 0   product  117965 non-null  object \n",
            " 1   state    117965 non-null  object \n",
            " 2   country  117965 non-null  object \n",
            " 3   type     117965 non-null  object \n",
            " 4   route    117965 non-null  object \n",
            " 5   tons     117965 non-null  float64\n",
            " 6   usd      117965 non-null  float64\n",
            "dtypes: float64(2), object(5)\n",
            "memory usage: 7.2+ MB\n"
          ],
          "name": "stdout"
        }
      ]
    },
    {
      "cell_type": "code",
      "metadata": {
        "id": "fFJlymJzuq7f",
        "colab_type": "code",
        "colab": {
          "base_uri": "https://localhost:8080/",
          "height": 158
        },
        "outputId": "dc051de0-6445-4b2b-86bf-123ea8374540"
      },
      "source": [
        "comex.nunique()"
      ],
      "execution_count": 155,
      "outputs": [
        {
          "output_type": "execute_result",
          "data": {
            "text/plain": [
              "product        6\n",
              "state         27\n",
              "country      212\n",
              "type           2\n",
              "route          5\n",
              "tons       63637\n",
              "usd        99273\n",
              "dtype: int64"
            ]
          },
          "metadata": {
            "tags": []
          },
          "execution_count": 155
        }
      ]
    },
    {
      "cell_type": "code",
      "metadata": {
        "id": "IT2iUHRGuynV",
        "colab_type": "code",
        "colab": {
          "base_uri": "https://localhost:8080/",
          "height": 158
        },
        "outputId": "4358b2a8-3c6c-4d17-f1df-5901042913cc"
      },
      "source": [
        "comex.isnull().sum()"
      ],
      "execution_count": 156,
      "outputs": [
        {
          "output_type": "execute_result",
          "data": {
            "text/plain": [
              "product    0\n",
              "state      0\n",
              "country    0\n",
              "type       0\n",
              "route      0\n",
              "tons       0\n",
              "usd        0\n",
              "dtype: int64"
            ]
          },
          "metadata": {
            "tags": []
          },
          "execution_count": 156
        }
      ]
    },
    {
      "cell_type": "code",
      "metadata": {
        "id": "8oxxuElcu1Dw",
        "colab_type": "code",
        "colab": {
          "base_uri": "https://localhost:8080/",
          "height": 293
        },
        "outputId": "1af8a3a1-0699-459c-e717-12ce0cb3a3e3"
      },
      "source": [
        "dates = mpl.dates.date2num(comex.loc[comex['product'] == 'soybeans', 'usd'].index.values)\n",
        "plt.plot_date(dates, comex.loc[comex['product'] == 'soybeans', 'usd'])"
      ],
      "execution_count": 157,
      "outputs": [
        {
          "output_type": "execute_result",
          "data": {
            "text/plain": [
              "[<matplotlib.lines.Line2D at 0x7fc660377fd0>]"
            ]
          },
          "metadata": {
            "tags": []
          },
          "execution_count": 157
        },
        {
          "output_type": "display_data",
          "data": {
            "image/png": "[encoded data removed]",
            "text/plain": [
              "<Figure size 432x288 with 1 Axes>"
            ]
          },
          "metadata": {
            "tags": [],
            "needs_background": "light"
          }
        }
      ]
    },
    {
      "cell_type": "markdown",
      "metadata": {
        "id": "SYPUAJGlvH01",
        "colab_type": "text"
      },
      "source": [
        "## Question 1"
      ]
    },
    {
      "cell_type": "markdown",
      "metadata": {
        "id": "WVz1HGk9vCEv",
        "colab_type": "text"
      },
      "source": [
        "###Show the evolution of total monthly and total annual exports from Brazil (all states and to everywhere) of ‘soybeans’, ‘soybean oil’ and ‘soybean meal’.\n"
      ]
    },
    {
      "cell_type": "code",
      "metadata": {
        "id": "EKDLZkzKu_lj",
        "colab_type": "code",
        "colab": {
          "base_uri": "https://localhost:8080/",
          "height": 436
        },
        "outputId": "64c9ee0c-dd61-430f-dfea-d9d5e77a62ae"
      },
      "source": [
        "soybean = comex.loc[(comex['type']=='Export') & (comex['product'].isin(['soybeans','soybean_oil','soybean_meal']))]\n",
        "soybean"
      ],
      "execution_count": 165,
      "outputs": [
        {
          "output_type": "execute_result",
          "data": {
            "text/html": [
              "<div>\n",
              "<style scoped>\n",
              "    .dataframe tbody tr th:only-of-type {\n",
              "        vertical-align: middle;\n",
              "    }\n",
              "\n",
              "    .dataframe tbody tr th {\n",
              "        vertical-align: top;\n",
              "    }\n",
              "\n",
              "    .dataframe thead th {\n",
              "        text-align: right;\n",
              "    }\n",
              "</style>\n",
              "<table border=\"1\" class=\"dataframe\">\n",
              "  <thead>\n",
              "    <tr style=\"text-align: right;\">\n",
              "      <th></th>\n",
              "      <th>product</th>\n",
              "      <th>state</th>\n",
              "      <th>country</th>\n",
              "      <th>type</th>\n",
              "      <th>route</th>\n",
              "      <th>tons</th>\n",
              "      <th>usd</th>\n",
              "    </tr>\n",
              "    <tr>\n",
              "      <th>date</th>\n",
              "      <th></th>\n",
              "      <th></th>\n",
              "      <th></th>\n",
              "      <th></th>\n",
              "      <th></th>\n",
              "      <th></th>\n",
              "      <th></th>\n",
              "    </tr>\n",
              "  </thead>\n",
              "  <tbody>\n",
              "    <tr>\n",
              "      <th>1997-01-01</th>\n",
              "      <td>soybean_meal</td>\n",
              "      <td>GO</td>\n",
              "      <td>Netherlands</td>\n",
              "      <td>Export</td>\n",
              "      <td>Sea</td>\n",
              "      <td>419.070</td>\n",
              "      <td>119318.0</td>\n",
              "    </tr>\n",
              "    <tr>\n",
              "      <th>1997-01-01</th>\n",
              "      <td>soybean_meal</td>\n",
              "      <td>GO</td>\n",
              "      <td>Netherlands</td>\n",
              "      <td>Export</td>\n",
              "      <td>Sea</td>\n",
              "      <td>5000.000</td>\n",
              "      <td>1414250.0</td>\n",
              "    </tr>\n",
              "    <tr>\n",
              "      <th>1997-01-01</th>\n",
              "      <td>soybean_meal</td>\n",
              "      <td>MS</td>\n",
              "      <td>Germany</td>\n",
              "      <td>Export</td>\n",
              "      <td>Sea</td>\n",
              "      <td>140.672</td>\n",
              "      <td>38378.0</td>\n",
              "    </tr>\n",
              "    <tr>\n",
              "      <th>1997-01-01</th>\n",
              "      <td>soybean_meal</td>\n",
              "      <td>MS</td>\n",
              "      <td>Hungary</td>\n",
              "      <td>Export</td>\n",
              "      <td>Sea</td>\n",
              "      <td>15000.000</td>\n",
              "      <td>4042100.0</td>\n",
              "    </tr>\n",
              "    <tr>\n",
              "      <th>1997-01-01</th>\n",
              "      <td>soybean_meal</td>\n",
              "      <td>MS</td>\n",
              "      <td>Netherlands</td>\n",
              "      <td>Export</td>\n",
              "      <td>Sea</td>\n",
              "      <td>14000.000</td>\n",
              "      <td>3850162.0</td>\n",
              "    </tr>\n",
              "    <tr>\n",
              "      <th>...</th>\n",
              "      <td>...</td>\n",
              "      <td>...</td>\n",
              "      <td>...</td>\n",
              "      <td>...</td>\n",
              "      <td>...</td>\n",
              "      <td>...</td>\n",
              "      <td>...</td>\n",
              "    </tr>\n",
              "    <tr>\n",
              "      <th>2019-12-01</th>\n",
              "      <td>soybeans</td>\n",
              "      <td>SP</td>\n",
              "      <td>Liberia</td>\n",
              "      <td>Export</td>\n",
              "      <td>Other</td>\n",
              "      <td>0.004</td>\n",
              "      <td>11.0</td>\n",
              "    </tr>\n",
              "    <tr>\n",
              "      <th>2019-12-01</th>\n",
              "      <td>soybeans</td>\n",
              "      <td>SP</td>\n",
              "      <td>Liberia</td>\n",
              "      <td>Export</td>\n",
              "      <td>Other</td>\n",
              "      <td>0.006</td>\n",
              "      <td>30.0</td>\n",
              "    </tr>\n",
              "    <tr>\n",
              "      <th>2019-12-01</th>\n",
              "      <td>soybeans</td>\n",
              "      <td>SP</td>\n",
              "      <td>Thailand</td>\n",
              "      <td>Export</td>\n",
              "      <td>Sea</td>\n",
              "      <td>146.499</td>\n",
              "      <td>52813.0</td>\n",
              "    </tr>\n",
              "    <tr>\n",
              "      <th>2019-12-01</th>\n",
              "      <td>soybeans</td>\n",
              "      <td>TO</td>\n",
              "      <td>China</td>\n",
              "      <td>Export</td>\n",
              "      <td>Sea</td>\n",
              "      <td>63731.482</td>\n",
              "      <td>22986541.0</td>\n",
              "    </tr>\n",
              "    <tr>\n",
              "      <th>2019-12-01</th>\n",
              "      <td>soybeans</td>\n",
              "      <td>TO</td>\n",
              "      <td>Japan</td>\n",
              "      <td>Export</td>\n",
              "      <td>Sea</td>\n",
              "      <td>4068.461</td>\n",
              "      <td>1418269.0</td>\n",
              "    </tr>\n",
              "  </tbody>\n",
              "</table>\n",
              "<p>54776 rows × 7 columns</p>\n",
              "</div>"
            ],
            "text/plain": [
              "                 product state      country  ...  route       tons         usd\n",
              "date                                         ...                              \n",
              "1997-01-01  soybean_meal    GO  Netherlands  ...    Sea    419.070    119318.0\n",
              "1997-01-01  soybean_meal    GO  Netherlands  ...    Sea   5000.000   1414250.0\n",
              "1997-01-01  soybean_meal    MS      Germany  ...    Sea    140.672     38378.0\n",
              "1997-01-01  soybean_meal    MS      Hungary  ...    Sea  15000.000   4042100.0\n",
              "1997-01-01  soybean_meal    MS  Netherlands  ...    Sea  14000.000   3850162.0\n",
              "...                  ...   ...          ...  ...    ...        ...         ...\n",
              "2019-12-01      soybeans    SP      Liberia  ...  Other      0.004        11.0\n",
              "2019-12-01      soybeans    SP      Liberia  ...  Other      0.006        30.0\n",
              "2019-12-01      soybeans    SP     Thailand  ...    Sea    146.499     52813.0\n",
              "2019-12-01      soybeans    TO        China  ...    Sea  63731.482  22986541.0\n",
              "2019-12-01      soybeans    TO        Japan  ...    Sea   4068.461   1418269.0\n",
              "\n",
              "[54776 rows x 7 columns]"
            ]
          },
          "metadata": {
            "tags": []
          },
          "execution_count": 165
        }
      ]
    },
    {
      "cell_type": "code",
      "metadata": {
        "id": "K0dgN8QRvMxg",
        "colab_type": "code",
        "colab": {}
      },
      "source": [
        "group_soy = soybean.groupby(soybean.index).sum()"
      ],
      "execution_count": 166,
      "outputs": []
    },
    {
      "cell_type": "code",
      "metadata": {
        "id": "23eYoRzkvPY-",
        "colab_type": "code",
        "colab": {
          "base_uri": "https://localhost:8080/",
          "height": 612
        },
        "outputId": "8ef81b18-154b-41a2-c8a9-8fdf593a2b60"
      },
      "source": [
        "fig, ax1 = plt.subplots(figsize =(30,10))\n",
        "ax2 = ax1.twinx()  # set up the 2nd axis\n",
        "ax1.plot(group_soy['usd'], lw = 4) #plot the Revenue on axis #1\n",
        "#ax1.xaxis_date()\n",
        "\n",
        "ax1.grid() # turn on grid #2\n",
        "\n",
        "ax2.bar(group_soy.index, group_soy['tons'], width=10, color = 'green')\n",
        "#ax2.xaxis_date()\n",
        "\n",
        "ax1.set_title('Monthly Exportation of Soybeans/Soybean Derivates and Volume of Exported Goods over the year', fontsize = 18, fontweight=\"bold\")\n",
        "ax1.set_ylabel('Export Monthly Values in USD', fontsize = 14)\n",
        "ax2.set_ylabel('Export in Tons per Month', fontsize = 14)"
      ],
      "execution_count": 200,
      "outputs": [
        {
          "output_type": "execute_result",
          "data": {
            "text/plain": [
              "Text(0, 0.5, 'Export in Tons per Month')"
            ]
          },
          "metadata": {
            "tags": []
          },
          "execution_count": 200
        },
        {
          "output_type": "display_data",
          "data": {
            "image/png": "[encoded data removed]",
            "text/plain": [
              "<Figure size 2160x720 with 2 Axes>"
            ]
          },
          "metadata": {
            "tags": [],
            "needs_background": "light"
          }
        }
      ]
    },
    {
      "cell_type": "markdown",
      "metadata": {
        "id": "ZhCom-wwv0sT",
        "colab_type": "text"
      },
      "source": [
        "## Question 2"
      ]
    },
    {
      "cell_type": "markdown",
      "metadata": {
        "id": "c4hQSnhnvyXP",
        "colab_type": "text"
      },
      "source": [
        "###What are the 3 most important products exported by Brazil in the last 5 years?"
      ]
    },
    {
      "cell_type": "code",
      "metadata": {
        "id": "9CKRpWkKv2lp",
        "colab_type": "code",
        "colab": {
          "base_uri": "https://localhost:8080/",
          "height": 436
        },
        "outputId": "622b7cac-758e-4569-a927-962524fad532"
      },
      "source": [
        "important = comex.loc[(comex['type']=='Export') & (comex.index >= '2015-01-01')]\n",
        "important"
      ],
      "execution_count": 169,
      "outputs": [
        {
          "output_type": "execute_result",
          "data": {
            "text/html": [
              "<div>\n",
              "<style scoped>\n",
              "    .dataframe tbody tr th:only-of-type {\n",
              "        vertical-align: middle;\n",
              "    }\n",
              "\n",
              "    .dataframe tbody tr th {\n",
              "        vertical-align: top;\n",
              "    }\n",
              "\n",
              "    .dataframe thead th {\n",
              "        text-align: right;\n",
              "    }\n",
              "</style>\n",
              "<table border=\"1\" class=\"dataframe\">\n",
              "  <thead>\n",
              "    <tr style=\"text-align: right;\">\n",
              "      <th></th>\n",
              "      <th>product</th>\n",
              "      <th>state</th>\n",
              "      <th>country</th>\n",
              "      <th>type</th>\n",
              "      <th>route</th>\n",
              "      <th>tons</th>\n",
              "      <th>usd</th>\n",
              "    </tr>\n",
              "    <tr>\n",
              "      <th>date</th>\n",
              "      <th></th>\n",
              "      <th></th>\n",
              "      <th></th>\n",
              "      <th></th>\n",
              "      <th></th>\n",
              "      <th></th>\n",
              "      <th></th>\n",
              "    </tr>\n",
              "  </thead>\n",
              "  <tbody>\n",
              "    <tr>\n",
              "      <th>2015-01-01</th>\n",
              "      <td>corn</td>\n",
              "      <td>BA</td>\n",
              "      <td>Morocco</td>\n",
              "      <td>Export</td>\n",
              "      <td>Sea</td>\n",
              "      <td>7486.339</td>\n",
              "      <td>1370000.0</td>\n",
              "    </tr>\n",
              "    <tr>\n",
              "      <th>2015-01-01</th>\n",
              "      <td>corn</td>\n",
              "      <td>DF</td>\n",
              "      <td>Taiwan</td>\n",
              "      <td>Export</td>\n",
              "      <td>Sea</td>\n",
              "      <td>6.085</td>\n",
              "      <td>1168.0</td>\n",
              "    </tr>\n",
              "    <tr>\n",
              "      <th>2015-01-01</th>\n",
              "      <td>corn</td>\n",
              "      <td>ES</td>\n",
              "      <td>South Korea</td>\n",
              "      <td>Export</td>\n",
              "      <td>Sea</td>\n",
              "      <td>50.000</td>\n",
              "      <td>8135.0</td>\n",
              "    </tr>\n",
              "    <tr>\n",
              "      <th>2015-01-01</th>\n",
              "      <td>corn</td>\n",
              "      <td>GO</td>\n",
              "      <td>China</td>\n",
              "      <td>Export</td>\n",
              "      <td>Sea</td>\n",
              "      <td>41331.166</td>\n",
              "      <td>8143579.0</td>\n",
              "    </tr>\n",
              "    <tr>\n",
              "      <th>2015-01-01</th>\n",
              "      <td>corn</td>\n",
              "      <td>GO</td>\n",
              "      <td>Costa Rica</td>\n",
              "      <td>Export</td>\n",
              "      <td>Sea</td>\n",
              "      <td>40.000</td>\n",
              "      <td>13140.0</td>\n",
              "    </tr>\n",
              "    <tr>\n",
              "      <th>...</th>\n",
              "      <td>...</td>\n",
              "      <td>...</td>\n",
              "      <td>...</td>\n",
              "      <td>...</td>\n",
              "      <td>...</td>\n",
              "      <td>...</td>\n",
              "      <td>...</td>\n",
              "    </tr>\n",
              "    <tr>\n",
              "      <th>2019-12-01</th>\n",
              "      <td>wheat</td>\n",
              "      <td>PR</td>\n",
              "      <td>United States</td>\n",
              "      <td>Export</td>\n",
              "      <td>Sea</td>\n",
              "      <td>0.400</td>\n",
              "      <td>400.0</td>\n",
              "    </tr>\n",
              "    <tr>\n",
              "      <th>2019-12-01</th>\n",
              "      <td>wheat</td>\n",
              "      <td>RS</td>\n",
              "      <td>Vietnam</td>\n",
              "      <td>Export</td>\n",
              "      <td>Sea</td>\n",
              "      <td>36698.000</td>\n",
              "      <td>6963002.0</td>\n",
              "    </tr>\n",
              "    <tr>\n",
              "      <th>2019-12-01</th>\n",
              "      <td>wheat</td>\n",
              "      <td>SP</td>\n",
              "      <td>Ireland</td>\n",
              "      <td>Export</td>\n",
              "      <td>Sea</td>\n",
              "      <td>0.500</td>\n",
              "      <td>477.0</td>\n",
              "    </tr>\n",
              "    <tr>\n",
              "      <th>2019-12-01</th>\n",
              "      <td>wheat</td>\n",
              "      <td>SP</td>\n",
              "      <td>Liberia</td>\n",
              "      <td>Export</td>\n",
              "      <td>Other</td>\n",
              "      <td>0.025</td>\n",
              "      <td>50.0</td>\n",
              "    </tr>\n",
              "    <tr>\n",
              "      <th>2019-12-01</th>\n",
              "      <td>wheat</td>\n",
              "      <td>SP</td>\n",
              "      <td>Marshall Islands</td>\n",
              "      <td>Export</td>\n",
              "      <td>Other</td>\n",
              "      <td>0.010</td>\n",
              "      <td>85.0</td>\n",
              "    </tr>\n",
              "  </tbody>\n",
              "</table>\n",
              "<p>38537 rows × 7 columns</p>\n",
              "</div>"
            ],
            "text/plain": [
              "           product state           country    type  route       tons        usd\n",
              "date                                                                           \n",
              "2015-01-01    corn    BA           Morocco  Export    Sea   7486.339  1370000.0\n",
              "2015-01-01    corn    DF            Taiwan  Export    Sea      6.085     1168.0\n",
              "2015-01-01    corn    ES       South Korea  Export    Sea     50.000     8135.0\n",
              "2015-01-01    corn    GO             China  Export    Sea  41331.166  8143579.0\n",
              "2015-01-01    corn    GO        Costa Rica  Export    Sea     40.000    13140.0\n",
              "...            ...   ...               ...     ...    ...        ...        ...\n",
              "2019-12-01   wheat    PR     United States  Export    Sea      0.400      400.0\n",
              "2019-12-01   wheat    RS           Vietnam  Export    Sea  36698.000  6963002.0\n",
              "2019-12-01   wheat    SP           Ireland  Export    Sea      0.500      477.0\n",
              "2019-12-01   wheat    SP           Liberia  Export  Other      0.025       50.0\n",
              "2019-12-01   wheat    SP  Marshall Islands  Export  Other      0.010       85.0\n",
              "\n",
              "[38537 rows x 7 columns]"
            ]
          },
          "metadata": {
            "tags": []
          },
          "execution_count": 169
        }
      ]
    },
    {
      "cell_type": "code",
      "metadata": {
        "id": "Ms96jqnDv7F_",
        "colab_type": "code",
        "colab": {
          "base_uri": "https://localhost:8080/",
          "height": 257
        },
        "outputId": "f488862d-24f6-455d-9d4c-478a291ce94a"
      },
      "source": [
        "products = important.groupby(important['product']).sum().sort_values(by='usd',ascending=False)[0:3]\n",
        "products"
      ],
      "execution_count": 177,
      "outputs": [
        {
          "output_type": "execute_result",
          "data": {
            "text/html": [
              "<div>\n",
              "<style scoped>\n",
              "    .dataframe tbody tr th:only-of-type {\n",
              "        vertical-align: middle;\n",
              "    }\n",
              "\n",
              "    .dataframe tbody tr th {\n",
              "        vertical-align: top;\n",
              "    }\n",
              "\n",
              "    .dataframe thead th {\n",
              "        text-align: right;\n",
              "    }\n",
              "</style>\n",
              "<table border=\"1\" class=\"dataframe\">\n",
              "  <thead>\n",
              "    <tr style=\"text-align: right;\">\n",
              "      <th></th>\n",
              "      <th>tons</th>\n",
              "      <th>usd</th>\n",
              "    </tr>\n",
              "    <tr>\n",
              "      <th>product</th>\n",
              "      <th></th>\n",
              "      <th></th>\n",
              "    </tr>\n",
              "  </thead>\n",
              "  <tbody>\n",
              "    <tr>\n",
              "      <th>soybeans</th>\n",
              "      <td>3.263315e+08</td>\n",
              "      <td>1.233255e+11</td>\n",
              "    </tr>\n",
              "    <tr>\n",
              "      <th>sugar</th>\n",
              "      <td>1.200336e+08</td>\n",
              "      <td>4.093849e+10</td>\n",
              "    </tr>\n",
              "    <tr>\n",
              "      <th>soybean_meal</th>\n",
              "      <td>7.664749e+07</td>\n",
              "      <td>2.840772e+10</td>\n",
              "    </tr>\n",
              "    <tr>\n",
              "      <th>corn</th>\n",
              "      <td>1.445993e+08</td>\n",
              "      <td>2.444772e+10</td>\n",
              "    </tr>\n",
              "    <tr>\n",
              "      <th>soybean_oil</th>\n",
              "      <td>6.711428e+06</td>\n",
              "      <td>4.795947e+09</td>\n",
              "    </tr>\n",
              "    <tr>\n",
              "      <th>wheat</th>\n",
              "      <td>3.885836e+06</td>\n",
              "      <td>7.269454e+08</td>\n",
              "    </tr>\n",
              "  </tbody>\n",
              "</table>\n",
              "</div>"
            ],
            "text/plain": [
              "                      tons           usd\n",
              "product                                 \n",
              "soybeans      3.263315e+08  1.233255e+11\n",
              "sugar         1.200336e+08  4.093849e+10\n",
              "soybean_meal  7.664749e+07  2.840772e+10\n",
              "corn          1.445993e+08  2.444772e+10\n",
              "soybean_oil   6.711428e+06  4.795947e+09\n",
              "wheat         3.885836e+06  7.269454e+08"
            ]
          },
          "metadata": {
            "tags": []
          },
          "execution_count": 177
        }
      ]
    },
    {
      "cell_type": "code",
      "metadata": {
        "id": "FfkqNzTJv9io",
        "colab_type": "code",
        "colab": {
          "base_uri": "https://localhost:8080/",
          "height": 295
        },
        "outputId": "88c93d8f-4a9a-47a8-dc6a-4a9d4bfae853"
      },
      "source": [
        "dataProd = products[products['usd']>0]\n",
        "\n",
        "norm = mpl.colors.Normalize(vmin=min(dataProd.usd), vmax=max(dataProd.usd))\n",
        "colors = [mpl.cm.Greens(norm(value)) for value in dataProd.usd]\n",
        "\n",
        "#Create our plot and resize it.\n",
        "fig = plt.gcf()\n",
        "ax = fig.add_subplot()\n",
        "fig.set_size_inches(16, 4.5)\n",
        "\n",
        "#Use squarify to plot our data, label it and add colours. We add an alpha layer to ensure black labels show through\n",
        "squarify.plot(label = products.index, sizes=dataProd['usd'], color = colors, alpha=.8)\n",
        "plt.title(\"Most Important Products Exported by Brazil\",fontsize=18,fontweight=\"bold\")\n",
        "\n",
        "#Remove our axes and display the plot\n",
        "plt.axis('off')\n",
        "plt.show()\n"
      ],
      "execution_count": 201,
      "outputs": [
        {
          "output_type": "display_data",
          "data": {
            "image/png": "[encoded data removed]",
            "text/plain": [
              "<Figure size 1152x324 with 1 Axes>"
            ]
          },
          "metadata": {
            "tags": [],
            "needs_background": "light"
          }
        }
      ]
    },
    {
      "cell_type": "markdown",
      "metadata": {
        "id": "_8x4CjamyjUR",
        "colab_type": "text"
      },
      "source": [
        "The 3 most important are:\n",
        "\n",
        "\n",
        "1.   Soybeans\n",
        "2.   Sugar\n",
        "3.   Soybean Meal\n",
        "\n"
      ]
    },
    {
      "cell_type": "markdown",
      "metadata": {
        "id": "naNUGE3dzAd8",
        "colab_type": "text"
      },
      "source": [
        "## Question 3"
      ]
    },
    {
      "cell_type": "markdown",
      "metadata": {
        "id": "F61vK4eqzB7P",
        "colab_type": "text"
      },
      "source": [
        "### What are the main routes through which Brazil have been exporting ‘corn’ in the last few years? Are there differences in the relative importance of routes depending on the product?"
      ]
    },
    {
      "cell_type": "code",
      "metadata": {
        "id": "q0FlJgLZzF-p",
        "colab_type": "code",
        "colab": {
          "base_uri": "https://localhost:8080/",
          "height": 123
        },
        "outputId": "1019cfaf-6eac-455d-9d4a-332d40057b43"
      },
      "source": [
        "data['route'].value_counts()"
      ],
      "execution_count": 202,
      "outputs": [
        {
          "output_type": "execute_result",
          "data": {
            "text/plain": [
              "Sea       14297\n",
              "Ground     2880\n",
              "Other       616\n",
              "Air         370\n",
              "River       234\n",
              "Name: route, dtype: int64"
            ]
          },
          "metadata": {
            "tags": []
          },
          "execution_count": 202
        }
      ]
    },
    {
      "cell_type": "code",
      "metadata": {
        "id": "oLoayXaAzHlS",
        "colab_type": "code",
        "colab": {
          "base_uri": "https://localhost:8080/",
          "height": 436
        },
        "outputId": "50943b6f-b242-45d7-88f8-182c7f156a87"
      },
      "source": [
        "exporta = comex.loc[(comex['type']=='Export') & (comex.index >= '2017-01-01')]\n",
        "exporta"
      ],
      "execution_count": 203,
      "outputs": [
        {
          "output_type": "execute_result",
          "data": {
            "text/html": [
              "<div>\n",
              "<style scoped>\n",
              "    .dataframe tbody tr th:only-of-type {\n",
              "        vertical-align: middle;\n",
              "    }\n",
              "\n",
              "    .dataframe tbody tr th {\n",
              "        vertical-align: top;\n",
              "    }\n",
              "\n",
              "    .dataframe thead th {\n",
              "        text-align: right;\n",
              "    }\n",
              "</style>\n",
              "<table border=\"1\" class=\"dataframe\">\n",
              "  <thead>\n",
              "    <tr style=\"text-align: right;\">\n",
              "      <th></th>\n",
              "      <th>product</th>\n",
              "      <th>state</th>\n",
              "      <th>country</th>\n",
              "      <th>type</th>\n",
              "      <th>route</th>\n",
              "      <th>tons</th>\n",
              "      <th>usd</th>\n",
              "    </tr>\n",
              "    <tr>\n",
              "      <th>date</th>\n",
              "      <th></th>\n",
              "      <th></th>\n",
              "      <th></th>\n",
              "      <th></th>\n",
              "      <th></th>\n",
              "      <th></th>\n",
              "      <th></th>\n",
              "    </tr>\n",
              "  </thead>\n",
              "  <tbody>\n",
              "    <tr>\n",
              "      <th>2017-01-01</th>\n",
              "      <td>corn</td>\n",
              "      <td>GO</td>\n",
              "      <td>Dominican Republic</td>\n",
              "      <td>Export</td>\n",
              "      <td>Sea</td>\n",
              "      <td>795.679</td>\n",
              "      <td>147710.0</td>\n",
              "    </tr>\n",
              "    <tr>\n",
              "      <th>2017-01-01</th>\n",
              "      <td>corn</td>\n",
              "      <td>GO</td>\n",
              "      <td>Ecuador</td>\n",
              "      <td>Export</td>\n",
              "      <td>Air</td>\n",
              "      <td>0.122</td>\n",
              "      <td>1504.0</td>\n",
              "    </tr>\n",
              "    <tr>\n",
              "      <th>2017-01-01</th>\n",
              "      <td>corn</td>\n",
              "      <td>GO</td>\n",
              "      <td>Egypt</td>\n",
              "      <td>Export</td>\n",
              "      <td>Sea</td>\n",
              "      <td>199.950</td>\n",
              "      <td>533884.0</td>\n",
              "    </tr>\n",
              "    <tr>\n",
              "      <th>2017-01-01</th>\n",
              "      <td>corn</td>\n",
              "      <td>GO</td>\n",
              "      <td>Iran</td>\n",
              "      <td>Export</td>\n",
              "      <td>Sea</td>\n",
              "      <td>17.680</td>\n",
              "      <td>2791.0</td>\n",
              "    </tr>\n",
              "    <tr>\n",
              "      <th>2017-01-01</th>\n",
              "      <td>corn</td>\n",
              "      <td>GO</td>\n",
              "      <td>Iran</td>\n",
              "      <td>Export</td>\n",
              "      <td>Sea</td>\n",
              "      <td>600.000</td>\n",
              "      <td>85626.0</td>\n",
              "    </tr>\n",
              "    <tr>\n",
              "      <th>...</th>\n",
              "      <td>...</td>\n",
              "      <td>...</td>\n",
              "      <td>...</td>\n",
              "      <td>...</td>\n",
              "      <td>...</td>\n",
              "      <td>...</td>\n",
              "      <td>...</td>\n",
              "    </tr>\n",
              "    <tr>\n",
              "      <th>2019-12-01</th>\n",
              "      <td>wheat</td>\n",
              "      <td>PR</td>\n",
              "      <td>United States</td>\n",
              "      <td>Export</td>\n",
              "      <td>Sea</td>\n",
              "      <td>0.400</td>\n",
              "      <td>400.0</td>\n",
              "    </tr>\n",
              "    <tr>\n",
              "      <th>2019-12-01</th>\n",
              "      <td>wheat</td>\n",
              "      <td>RS</td>\n",
              "      <td>Vietnam</td>\n",
              "      <td>Export</td>\n",
              "      <td>Sea</td>\n",
              "      <td>36698.000</td>\n",
              "      <td>6963002.0</td>\n",
              "    </tr>\n",
              "    <tr>\n",
              "      <th>2019-12-01</th>\n",
              "      <td>wheat</td>\n",
              "      <td>SP</td>\n",
              "      <td>Ireland</td>\n",
              "      <td>Export</td>\n",
              "      <td>Sea</td>\n",
              "      <td>0.500</td>\n",
              "      <td>477.0</td>\n",
              "    </tr>\n",
              "    <tr>\n",
              "      <th>2019-12-01</th>\n",
              "      <td>wheat</td>\n",
              "      <td>SP</td>\n",
              "      <td>Liberia</td>\n",
              "      <td>Export</td>\n",
              "      <td>Other</td>\n",
              "      <td>0.025</td>\n",
              "      <td>50.0</td>\n",
              "    </tr>\n",
              "    <tr>\n",
              "      <th>2019-12-01</th>\n",
              "      <td>wheat</td>\n",
              "      <td>SP</td>\n",
              "      <td>Marshall Islands</td>\n",
              "      <td>Export</td>\n",
              "      <td>Other</td>\n",
              "      <td>0.010</td>\n",
              "      <td>85.0</td>\n",
              "    </tr>\n",
              "  </tbody>\n",
              "</table>\n",
              "<p>25020 rows × 7 columns</p>\n",
              "</div>"
            ],
            "text/plain": [
              "           product state             country  ...  route       tons        usd\n",
              "date                                          ...                             \n",
              "2017-01-01    corn    GO  Dominican Republic  ...    Sea    795.679   147710.0\n",
              "2017-01-01    corn    GO             Ecuador  ...    Air      0.122     1504.0\n",
              "2017-01-01    corn    GO               Egypt  ...    Sea    199.950   533884.0\n",
              "2017-01-01    corn    GO                Iran  ...    Sea     17.680     2791.0\n",
              "2017-01-01    corn    GO                Iran  ...    Sea    600.000    85626.0\n",
              "...            ...   ...                 ...  ...    ...        ...        ...\n",
              "2019-12-01   wheat    PR       United States  ...    Sea      0.400      400.0\n",
              "2019-12-01   wheat    RS             Vietnam  ...    Sea  36698.000  6963002.0\n",
              "2019-12-01   wheat    SP             Ireland  ...    Sea      0.500      477.0\n",
              "2019-12-01   wheat    SP             Liberia  ...  Other      0.025       50.0\n",
              "2019-12-01   wheat    SP    Marshall Islands  ...  Other      0.010       85.0\n",
              "\n",
              "[25020 rows x 7 columns]"
            ]
          },
          "metadata": {
            "tags": []
          },
          "execution_count": 203
        }
      ]
    },
    {
      "cell_type": "code",
      "metadata": {
        "id": "6yPA4ju0zNr8",
        "colab_type": "code",
        "colab": {
          "base_uri": "https://localhost:8080/",
          "height": 197
        },
        "outputId": "e9636177-d177-414e-bb47-efbf171464ee"
      },
      "source": [
        "corn = exporta.loc[exporta['product']=='corn'].groupby(['product','route']).sum().sort_values(by='usd',ascending=False)\n",
        "corn.reset_index(inplace=True)\n",
        "corn"
      ],
      "execution_count": 204,
      "outputs": [
        {
          "output_type": "execute_result",
          "data": {
            "text/html": [
              "<div>\n",
              "<style scoped>\n",
              "    .dataframe tbody tr th:only-of-type {\n",
              "        vertical-align: middle;\n",
              "    }\n",
              "\n",
              "    .dataframe tbody tr th {\n",
              "        vertical-align: top;\n",
              "    }\n",
              "\n",
              "    .dataframe thead th {\n",
              "        text-align: right;\n",
              "    }\n",
              "</style>\n",
              "<table border=\"1\" class=\"dataframe\">\n",
              "  <thead>\n",
              "    <tr style=\"text-align: right;\">\n",
              "      <th></th>\n",
              "      <th>product</th>\n",
              "      <th>route</th>\n",
              "      <th>tons</th>\n",
              "      <th>usd</th>\n",
              "    </tr>\n",
              "  </thead>\n",
              "  <tbody>\n",
              "    <tr>\n",
              "      <th>0</th>\n",
              "      <td>corn</td>\n",
              "      <td>Sea</td>\n",
              "      <td>9.002341e+07</td>\n",
              "      <td>1.498535e+10</td>\n",
              "    </tr>\n",
              "    <tr>\n",
              "      <th>1</th>\n",
              "      <td>corn</td>\n",
              "      <td>River</td>\n",
              "      <td>3.500016e+06</td>\n",
              "      <td>5.654711e+08</td>\n",
              "    </tr>\n",
              "    <tr>\n",
              "      <th>2</th>\n",
              "      <td>corn</td>\n",
              "      <td>Ground</td>\n",
              "      <td>4.824573e+04</td>\n",
              "      <td>1.130397e+08</td>\n",
              "    </tr>\n",
              "    <tr>\n",
              "      <th>3</th>\n",
              "      <td>corn</td>\n",
              "      <td>Other</td>\n",
              "      <td>2.624365e+05</td>\n",
              "      <td>4.359135e+07</td>\n",
              "    </tr>\n",
              "    <tr>\n",
              "      <th>4</th>\n",
              "      <td>corn</td>\n",
              "      <td>Air</td>\n",
              "      <td>4.162630e+02</td>\n",
              "      <td>1.880937e+06</td>\n",
              "    </tr>\n",
              "  </tbody>\n",
              "</table>\n",
              "</div>"
            ],
            "text/plain": [
              "  product   route          tons           usd\n",
              "0    corn     Sea  9.002341e+07  1.498535e+10\n",
              "1    corn   River  3.500016e+06  5.654711e+08\n",
              "2    corn  Ground  4.824573e+04  1.130397e+08\n",
              "3    corn   Other  2.624365e+05  4.359135e+07\n",
              "4    corn     Air  4.162630e+02  1.880937e+06"
            ]
          },
          "metadata": {
            "tags": []
          },
          "execution_count": 204
        }
      ]
    },
    {
      "cell_type": "code",
      "metadata": {
        "id": "aHugWGgvzQM5",
        "colab_type": "code",
        "colab": {
          "base_uri": "https://localhost:8080/",
          "height": 887
        },
        "outputId": "cd51242b-342f-4bc4-9c36-0303a2f65318"
      },
      "source": [
        "routes = exporta.groupby(['route','product']).sum().sort_index()\n",
        "routes.reset_index(inplace=True)\n",
        "routes"
      ],
      "execution_count": 205,
      "outputs": [
        {
          "output_type": "execute_result",
          "data": {
            "text/html": [
              "<div>\n",
              "<style scoped>\n",
              "    .dataframe tbody tr th:only-of-type {\n",
              "        vertical-align: middle;\n",
              "    }\n",
              "\n",
              "    .dataframe tbody tr th {\n",
              "        vertical-align: top;\n",
              "    }\n",
              "\n",
              "    .dataframe thead th {\n",
              "        text-align: right;\n",
              "    }\n",
              "</style>\n",
              "<table border=\"1\" class=\"dataframe\">\n",
              "  <thead>\n",
              "    <tr style=\"text-align: right;\">\n",
              "      <th></th>\n",
              "      <th>route</th>\n",
              "      <th>product</th>\n",
              "      <th>tons</th>\n",
              "      <th>usd</th>\n",
              "    </tr>\n",
              "  </thead>\n",
              "  <tbody>\n",
              "    <tr>\n",
              "      <th>0</th>\n",
              "      <td>Air</td>\n",
              "      <td>corn</td>\n",
              "      <td>4.162630e+02</td>\n",
              "      <td>1.880937e+06</td>\n",
              "    </tr>\n",
              "    <tr>\n",
              "      <th>1</th>\n",
              "      <td>Air</td>\n",
              "      <td>soybean_meal</td>\n",
              "      <td>1.076300e+01</td>\n",
              "      <td>1.128200e+04</td>\n",
              "    </tr>\n",
              "    <tr>\n",
              "      <th>2</th>\n",
              "      <td>Air</td>\n",
              "      <td>soybean_oil</td>\n",
              "      <td>2.408000e+00</td>\n",
              "      <td>3.825000e+03</td>\n",
              "    </tr>\n",
              "    <tr>\n",
              "      <th>3</th>\n",
              "      <td>Air</td>\n",
              "      <td>soybeans</td>\n",
              "      <td>1.968800e+01</td>\n",
              "      <td>6.019400e+04</td>\n",
              "    </tr>\n",
              "    <tr>\n",
              "      <th>4</th>\n",
              "      <td>Air</td>\n",
              "      <td>sugar</td>\n",
              "      <td>2.525800e+01</td>\n",
              "      <td>2.709100e+04</td>\n",
              "    </tr>\n",
              "    <tr>\n",
              "      <th>5</th>\n",
              "      <td>Air</td>\n",
              "      <td>wheat</td>\n",
              "      <td>4.120000e-01</td>\n",
              "      <td>1.087000e+03</td>\n",
              "    </tr>\n",
              "    <tr>\n",
              "      <th>6</th>\n",
              "      <td>Ground</td>\n",
              "      <td>corn</td>\n",
              "      <td>4.824573e+04</td>\n",
              "      <td>1.130397e+08</td>\n",
              "    </tr>\n",
              "    <tr>\n",
              "      <th>7</th>\n",
              "      <td>Ground</td>\n",
              "      <td>soybean_meal</td>\n",
              "      <td>5.828548e+03</td>\n",
              "      <td>3.546417e+06</td>\n",
              "    </tr>\n",
              "    <tr>\n",
              "      <th>8</th>\n",
              "      <td>Ground</td>\n",
              "      <td>soybean_oil</td>\n",
              "      <td>8.791069e+04</td>\n",
              "      <td>8.626319e+07</td>\n",
              "    </tr>\n",
              "    <tr>\n",
              "      <th>9</th>\n",
              "      <td>Ground</td>\n",
              "      <td>soybeans</td>\n",
              "      <td>9.091980e+04</td>\n",
              "      <td>3.794101e+07</td>\n",
              "    </tr>\n",
              "    <tr>\n",
              "      <th>10</th>\n",
              "      <td>Ground</td>\n",
              "      <td>sugar</td>\n",
              "      <td>4.299771e+05</td>\n",
              "      <td>1.738252e+08</td>\n",
              "    </tr>\n",
              "    <tr>\n",
              "      <th>11</th>\n",
              "      <td>Ground</td>\n",
              "      <td>wheat</td>\n",
              "      <td>8.585740e+02</td>\n",
              "      <td>4.028210e+05</td>\n",
              "    </tr>\n",
              "    <tr>\n",
              "      <th>12</th>\n",
              "      <td>Other</td>\n",
              "      <td>corn</td>\n",
              "      <td>2.624365e+05</td>\n",
              "      <td>4.359135e+07</td>\n",
              "    </tr>\n",
              "    <tr>\n",
              "      <th>13</th>\n",
              "      <td>Other</td>\n",
              "      <td>soybean_meal</td>\n",
              "      <td>9.149716e+04</td>\n",
              "      <td>3.053684e+07</td>\n",
              "    </tr>\n",
              "    <tr>\n",
              "      <th>14</th>\n",
              "      <td>Other</td>\n",
              "      <td>soybean_oil</td>\n",
              "      <td>1.365026e+04</td>\n",
              "      <td>1.397111e+07</td>\n",
              "    </tr>\n",
              "    <tr>\n",
              "      <th>15</th>\n",
              "      <td>Other</td>\n",
              "      <td>soybeans</td>\n",
              "      <td>1.519021e+06</td>\n",
              "      <td>5.423436e+08</td>\n",
              "    </tr>\n",
              "    <tr>\n",
              "      <th>16</th>\n",
              "      <td>Other</td>\n",
              "      <td>sugar</td>\n",
              "      <td>3.717885e+04</td>\n",
              "      <td>1.496650e+07</td>\n",
              "    </tr>\n",
              "    <tr>\n",
              "      <th>17</th>\n",
              "      <td>Other</td>\n",
              "      <td>wheat</td>\n",
              "      <td>7.812000e+00</td>\n",
              "      <td>1.268600e+04</td>\n",
              "    </tr>\n",
              "    <tr>\n",
              "      <th>18</th>\n",
              "      <td>River</td>\n",
              "      <td>corn</td>\n",
              "      <td>3.500016e+06</td>\n",
              "      <td>5.654711e+08</td>\n",
              "    </tr>\n",
              "    <tr>\n",
              "      <th>19</th>\n",
              "      <td>River</td>\n",
              "      <td>soybean_oil</td>\n",
              "      <td>1.893752e+03</td>\n",
              "      <td>1.835247e+06</td>\n",
              "    </tr>\n",
              "    <tr>\n",
              "      <th>20</th>\n",
              "      <td>River</td>\n",
              "      <td>soybeans</td>\n",
              "      <td>5.798075e+06</td>\n",
              "      <td>2.196349e+09</td>\n",
              "    </tr>\n",
              "    <tr>\n",
              "      <th>21</th>\n",
              "      <td>River</td>\n",
              "      <td>sugar</td>\n",
              "      <td>2.528620e+04</td>\n",
              "      <td>9.525119e+06</td>\n",
              "    </tr>\n",
              "    <tr>\n",
              "      <th>22</th>\n",
              "      <td>Sea</td>\n",
              "      <td>corn</td>\n",
              "      <td>9.002341e+07</td>\n",
              "      <td>1.498535e+10</td>\n",
              "    </tr>\n",
              "    <tr>\n",
              "      <th>23</th>\n",
              "      <td>Sea</td>\n",
              "      <td>soybean_meal</td>\n",
              "      <td>4.727976e+07</td>\n",
              "      <td>1.735984e+10</td>\n",
              "    </tr>\n",
              "    <tr>\n",
              "      <th>24</th>\n",
              "      <td>Sea</td>\n",
              "      <td>soybean_oil</td>\n",
              "      <td>3.684554e+06</td>\n",
              "      <td>2.642380e+09</td>\n",
              "    </tr>\n",
              "    <tr>\n",
              "      <th>25</th>\n",
              "      <td>Sea</td>\n",
              "      <td>soybeans</td>\n",
              "      <td>2.130461e+08</td>\n",
              "      <td>8.024473e+10</td>\n",
              "    </tr>\n",
              "    <tr>\n",
              "      <th>26</th>\n",
              "      <td>Sea</td>\n",
              "      <td>sugar</td>\n",
              "      <td>6.692475e+07</td>\n",
              "      <td>2.278201e+10</td>\n",
              "    </tr>\n",
              "    <tr>\n",
              "      <th>27</th>\n",
              "      <td>Sea</td>\n",
              "      <td>wheat</td>\n",
              "      <td>1.392773e+06</td>\n",
              "      <td>2.578004e+08</td>\n",
              "    </tr>\n",
              "  </tbody>\n",
              "</table>\n",
              "</div>"
            ],
            "text/plain": [
              "     route       product          tons           usd\n",
              "0      Air          corn  4.162630e+02  1.880937e+06\n",
              "1      Air  soybean_meal  1.076300e+01  1.128200e+04\n",
              "2      Air   soybean_oil  2.408000e+00  3.825000e+03\n",
              "3      Air      soybeans  1.968800e+01  6.019400e+04\n",
              "4      Air         sugar  2.525800e+01  2.709100e+04\n",
              "5      Air         wheat  4.120000e-01  1.087000e+03\n",
              "6   Ground          corn  4.824573e+04  1.130397e+08\n",
              "7   Ground  soybean_meal  5.828548e+03  3.546417e+06\n",
              "8   Ground   soybean_oil  8.791069e+04  8.626319e+07\n",
              "9   Ground      soybeans  9.091980e+04  3.794101e+07\n",
              "10  Ground         sugar  4.299771e+05  1.738252e+08\n",
              "11  Ground         wheat  8.585740e+02  4.028210e+05\n",
              "12   Other          corn  2.624365e+05  4.359135e+07\n",
              "13   Other  soybean_meal  9.149716e+04  3.053684e+07\n",
              "14   Other   soybean_oil  1.365026e+04  1.397111e+07\n",
              "15   Other      soybeans  1.519021e+06  5.423436e+08\n",
              "16   Other         sugar  3.717885e+04  1.496650e+07\n",
              "17   Other         wheat  7.812000e+00  1.268600e+04\n",
              "18   River          corn  3.500016e+06  5.654711e+08\n",
              "19   River   soybean_oil  1.893752e+03  1.835247e+06\n",
              "20   River      soybeans  5.798075e+06  2.196349e+09\n",
              "21   River         sugar  2.528620e+04  9.525119e+06\n",
              "22     Sea          corn  9.002341e+07  1.498535e+10\n",
              "23     Sea  soybean_meal  4.727976e+07  1.735984e+10\n",
              "24     Sea   soybean_oil  3.684554e+06  2.642380e+09\n",
              "25     Sea      soybeans  2.130461e+08  8.024473e+10\n",
              "26     Sea         sugar  6.692475e+07  2.278201e+10\n",
              "27     Sea         wheat  1.392773e+06  2.578004e+08"
            ]
          },
          "metadata": {
            "tags": []
          },
          "execution_count": 205
        }
      ]
    },
    {
      "cell_type": "code",
      "metadata": {
        "id": "hyHci8qHzTTO",
        "colab_type": "code",
        "colab": {
          "base_uri": "https://localhost:8080/",
          "height": 574
        },
        "outputId": "6e726bfa-9518-4801-c1dd-7b7f0f68df32"
      },
      "source": [
        "# Create a pieplot\n",
        "fig, ax1 = plt.subplots(figsize =(30,10))\n",
        "plt.pie(corn['usd'], labels= corn['route'])\n",
        "\n",
        "my_circle=plt.Circle( (0,0), 0.7, color='white')\n",
        "p=plt.gcf()\n",
        "p.gca().add_artist(my_circle)\n",
        " \n",
        "plt.show()"
      ],
      "execution_count": 213,
      "outputs": [
        {
          "output_type": "display_data",
          "data": {
            "image/png": "[encoded data removed]",
            "text/plain": [
              "<Figure size 2160x720 with 1 Axes>"
            ]
          },
          "metadata": {
            "tags": []
          }
        }
      ]
    },
    {
      "cell_type": "code",
      "metadata": {
        "id": "C8pej20S0slX",
        "colab_type": "code",
        "colab": {
          "base_uri": "https://localhost:8080/",
          "height": 257
        },
        "outputId": "1c308819-7d9d-4439-ee6f-0a88157da351"
      },
      "source": [
        "pivot_routes = routes.pivot(index='product', columns='route', values='usd')\n",
        "pivot_routes.fillna(0,inplace=True)\n",
        "pivot_routes\n"
      ],
      "execution_count": 216,
      "outputs": [
        {
          "output_type": "execute_result",
          "data": {
            "text/html": [
              "<div>\n",
              "<style scoped>\n",
              "    .dataframe tbody tr th:only-of-type {\n",
              "        vertical-align: middle;\n",
              "    }\n",
              "\n",
              "    .dataframe tbody tr th {\n",
              "        vertical-align: top;\n",
              "    }\n",
              "\n",
              "    .dataframe thead th {\n",
              "        text-align: right;\n",
              "    }\n",
              "</style>\n",
              "<table border=\"1\" class=\"dataframe\">\n",
              "  <thead>\n",
              "    <tr style=\"text-align: right;\">\n",
              "      <th>route</th>\n",
              "      <th>Air</th>\n",
              "      <th>Ground</th>\n",
              "      <th>Other</th>\n",
              "      <th>River</th>\n",
              "      <th>Sea</th>\n",
              "    </tr>\n",
              "    <tr>\n",
              "      <th>product</th>\n",
              "      <th></th>\n",
              "      <th></th>\n",
              "      <th></th>\n",
              "      <th></th>\n",
              "      <th></th>\n",
              "    </tr>\n",
              "  </thead>\n",
              "  <tbody>\n",
              "    <tr>\n",
              "      <th>corn</th>\n",
              "      <td>1880937.0</td>\n",
              "      <td>113039682.0</td>\n",
              "      <td>43591351.0</td>\n",
              "      <td>5.654711e+08</td>\n",
              "      <td>1.498535e+10</td>\n",
              "    </tr>\n",
              "    <tr>\n",
              "      <th>soybean_meal</th>\n",
              "      <td>11282.0</td>\n",
              "      <td>3546417.0</td>\n",
              "      <td>30536840.0</td>\n",
              "      <td>0.000000e+00</td>\n",
              "      <td>1.735984e+10</td>\n",
              "    </tr>\n",
              "    <tr>\n",
              "      <th>soybean_oil</th>\n",
              "      <td>3825.0</td>\n",
              "      <td>86263192.0</td>\n",
              "      <td>13971109.0</td>\n",
              "      <td>1.835247e+06</td>\n",
              "      <td>2.642380e+09</td>\n",
              "    </tr>\n",
              "    <tr>\n",
              "      <th>soybeans</th>\n",
              "      <td>60194.0</td>\n",
              "      <td>37941012.0</td>\n",
              "      <td>542343604.0</td>\n",
              "      <td>2.196349e+09</td>\n",
              "      <td>8.024473e+10</td>\n",
              "    </tr>\n",
              "    <tr>\n",
              "      <th>sugar</th>\n",
              "      <td>27091.0</td>\n",
              "      <td>173825172.0</td>\n",
              "      <td>14966501.0</td>\n",
              "      <td>9.525119e+06</td>\n",
              "      <td>2.278201e+10</td>\n",
              "    </tr>\n",
              "    <tr>\n",
              "      <th>wheat</th>\n",
              "      <td>1087.0</td>\n",
              "      <td>402821.0</td>\n",
              "      <td>12686.0</td>\n",
              "      <td>0.000000e+00</td>\n",
              "      <td>2.578004e+08</td>\n",
              "    </tr>\n",
              "  </tbody>\n",
              "</table>\n",
              "</div>"
            ],
            "text/plain": [
              "route               Air       Ground        Other         River           Sea\n",
              "product                                                                      \n",
              "corn          1880937.0  113039682.0   43591351.0  5.654711e+08  1.498535e+10\n",
              "soybean_meal    11282.0    3546417.0   30536840.0  0.000000e+00  1.735984e+10\n",
              "soybean_oil      3825.0   86263192.0   13971109.0  1.835247e+06  2.642380e+09\n",
              "soybeans        60194.0   37941012.0  542343604.0  2.196349e+09  8.024473e+10\n",
              "sugar           27091.0  173825172.0   14966501.0  9.525119e+06  2.278201e+10\n",
              "wheat            1087.0     402821.0      12686.0  0.000000e+00  2.578004e+08"
            ]
          },
          "metadata": {
            "tags": []
          },
          "execution_count": 216
        }
      ]
    },
    {
      "cell_type": "code",
      "metadata": {
        "id": "QyhLteI20t_0",
        "colab_type": "code",
        "colab": {
          "base_uri": "https://localhost:8080/",
          "height": 257
        },
        "outputId": "dc26c643-c3dd-466b-f8be-7ca4db54d888"
      },
      "source": [
        "adjust_route = pivot_routes.div(pivot_routes.sum(axis=1), axis=0)\n",
        "adjust_route"
      ],
      "execution_count": 217,
      "outputs": [
        {
          "output_type": "execute_result",
          "data": {
            "text/html": [
              "<div>\n",
              "<style scoped>\n",
              "    .dataframe tbody tr th:only-of-type {\n",
              "        vertical-align: middle;\n",
              "    }\n",
              "\n",
              "    .dataframe tbody tr th {\n",
              "        vertical-align: top;\n",
              "    }\n",
              "\n",
              "    .dataframe thead th {\n",
              "        text-align: right;\n",
              "    }\n",
              "</style>\n",
              "<table border=\"1\" class=\"dataframe\">\n",
              "  <thead>\n",
              "    <tr style=\"text-align: right;\">\n",
              "      <th>route</th>\n",
              "      <th>Air</th>\n",
              "      <th>Ground</th>\n",
              "      <th>Other</th>\n",
              "      <th>River</th>\n",
              "      <th>Sea</th>\n",
              "    </tr>\n",
              "    <tr>\n",
              "      <th>product</th>\n",
              "      <th></th>\n",
              "      <th></th>\n",
              "      <th></th>\n",
              "      <th></th>\n",
              "      <th></th>\n",
              "    </tr>\n",
              "  </thead>\n",
              "  <tbody>\n",
              "    <tr>\n",
              "      <th>corn</th>\n",
              "      <td>1.197338e-04</td>\n",
              "      <td>0.007196</td>\n",
              "      <td>0.002775</td>\n",
              "      <td>0.035996</td>\n",
              "      <td>0.953914</td>\n",
              "    </tr>\n",
              "    <tr>\n",
              "      <th>soybean_meal</th>\n",
              "      <td>6.486169e-07</td>\n",
              "      <td>0.000204</td>\n",
              "      <td>0.001756</td>\n",
              "      <td>0.000000</td>\n",
              "      <td>0.998040</td>\n",
              "    </tr>\n",
              "    <tr>\n",
              "      <th>soybean_oil</th>\n",
              "      <td>1.393720e-06</td>\n",
              "      <td>0.031432</td>\n",
              "      <td>0.005091</td>\n",
              "      <td>0.000669</td>\n",
              "      <td>0.962807</td>\n",
              "    </tr>\n",
              "    <tr>\n",
              "      <th>soybeans</th>\n",
              "      <td>7.250418e-07</td>\n",
              "      <td>0.000457</td>\n",
              "      <td>0.006533</td>\n",
              "      <td>0.026455</td>\n",
              "      <td>0.966554</td>\n",
              "    </tr>\n",
              "    <tr>\n",
              "      <th>sugar</th>\n",
              "      <td>1.178876e-06</td>\n",
              "      <td>0.007564</td>\n",
              "      <td>0.000651</td>\n",
              "      <td>0.000414</td>\n",
              "      <td>0.991369</td>\n",
              "    </tr>\n",
              "    <tr>\n",
              "      <th>wheat</th>\n",
              "      <td>4.209637e-06</td>\n",
              "      <td>0.001560</td>\n",
              "      <td>0.000049</td>\n",
              "      <td>0.000000</td>\n",
              "      <td>0.998387</td>\n",
              "    </tr>\n",
              "  </tbody>\n",
              "</table>\n",
              "</div>"
            ],
            "text/plain": [
              "route                  Air    Ground     Other     River       Sea\n",
              "product                                                           \n",
              "corn          1.197338e-04  0.007196  0.002775  0.035996  0.953914\n",
              "soybean_meal  6.486169e-07  0.000204  0.001756  0.000000  0.998040\n",
              "soybean_oil   1.393720e-06  0.031432  0.005091  0.000669  0.962807\n",
              "soybeans      7.250418e-07  0.000457  0.006533  0.026455  0.966554\n",
              "sugar         1.178876e-06  0.007564  0.000651  0.000414  0.991369\n",
              "wheat         4.209637e-06  0.001560  0.000049  0.000000  0.998387"
            ]
          },
          "metadata": {
            "tags": []
          },
          "execution_count": 217
        }
      ]
    },
    {
      "cell_type": "code",
      "metadata": {
        "id": "pOWYfY2B0vcM",
        "colab_type": "code",
        "colab": {
          "base_uri": "https://localhost:8080/",
          "height": 684
        },
        "outputId": "d0241510-95dd-44e2-b77e-b37a4c01e003"
      },
      "source": [
        "adjust_route.plot.bar(stacked=True, figsize=(20,10))"
      ],
      "execution_count": 219,
      "outputs": [
        {
          "output_type": "execute_result",
          "data": {
            "text/plain": [
              "<matplotlib.axes._subplots.AxesSubplot at 0x7fc66129b2e8>"
            ]
          },
          "metadata": {
            "tags": []
          },
          "execution_count": 219
        },
        {
          "output_type": "display_data",
          "data": {
            "image/png": "[encoded data removed]",
            "text/plain": [
              "<Figure size 1440x720 with 1 Axes>"
            ]
          },
          "metadata": {
            "tags": [],
            "needs_background": "light"
          }
        }
      ]
    },
    {
      "cell_type": "markdown",
      "metadata": {
        "id": "LaIUj0XZ02f6",
        "colab_type": "text"
      },
      "source": [
        "Clearly we can see that the main exportation route in Brazil is the Sea, but we can take it out and see if the other routes affect the products and how."
      ]
    },
    {
      "cell_type": "code",
      "metadata": {
        "id": "wGGwPk561L8p",
        "colab_type": "code",
        "colab": {
          "base_uri": "https://localhost:8080/",
          "height": 684
        },
        "outputId": "95d2394b-f350-4bbc-e74d-26c0df648ef8"
      },
      "source": [
        "wo_sea = pivot_routes.drop('Sea', axis=1)\n",
        "adjust_wo_sea= wo_sea.div(wo_sea.sum(axis=1), axis=0)\n",
        "adjust_wo_sea\n",
        "adjust_wo_sea.plot.bar(stacked=True, figsize=(20,10))"
      ],
      "execution_count": 220,
      "outputs": [
        {
          "output_type": "execute_result",
          "data": {
            "text/plain": [
              "<matplotlib.axes._subplots.AxesSubplot at 0x7fc668e86cc0>"
            ]
          },
          "metadata": {
            "tags": []
          },
          "execution_count": 220
        },
        {
          "output_type": "display_data",
          "data": {
            "image/png": "[encoded data removed]",
            "text/plain": [
              "<Figure size 1440x720 with 1 Axes>"
            ]
          },
          "metadata": {
            "tags": [],
            "needs_background": "light"
          }
        }
      ]
    },
    {
      "cell_type": "markdown",
      "metadata": {
        "id": "NMhA51t71TV1",
        "colab_type": "text"
      },
      "source": [
        "Without the Sea route, sugar, wheat and soybean oil are mostly affected by ground route and the corn and soy are mostly exported by River. With this, we can assume that, depending on the product, the route can affect the exportation, there is relevance in the routes\n"
      ]
    },
    {
      "cell_type": "markdown",
      "metadata": {
        "id": "woxMS_gk2sq2",
        "colab_type": "text"
      },
      "source": [
        "##Question 4"
      ]
    },
    {
      "cell_type": "markdown",
      "metadata": {
        "id": "raPPPSJu2v4t",
        "colab_type": "text"
      },
      "source": [
        "### Which countries have been the most important trade partners for Brazil in terms of ‘corn’ and ‘sugar’ in the last 3 years?"
      ]
    },
    {
      "cell_type": "code",
      "metadata": {
        "id": "e_ELsqtw2qz2",
        "colab_type": "code",
        "colab": {
          "base_uri": "https://localhost:8080/",
          "height": 158
        },
        "outputId": "0cb19c60-58cf-4eed-dece-bfb43068ec2b"
      },
      "source": [
        "comex.nunique()"
      ],
      "execution_count": 222,
      "outputs": [
        {
          "output_type": "execute_result",
          "data": {
            "text/plain": [
              "product        6\n",
              "state         27\n",
              "country      212\n",
              "type           2\n",
              "route          5\n",
              "tons       63637\n",
              "usd        99273\n",
              "dtype: int64"
            ]
          },
          "metadata": {
            "tags": []
          },
          "execution_count": 222
        }
      ]
    },
    {
      "cell_type": "code",
      "metadata": {
        "id": "F75btkLX25e0",
        "colab_type": "code",
        "colab": {
          "base_uri": "https://localhost:8080/",
          "height": 406
        },
        "outputId": "62eafec6-ae54-400d-e8ed-3fa514ee52eb"
      },
      "source": [
        "#filtering\n",
        "trade = comex.loc[(comex['product'].isin(['corn','sugar'])) & (comex.index >= '2017-01-01')]\n",
        "trade\n",
        "\n",
        "#groupying by\n",
        "country_p = trade.groupby(['country','product']).sum().sort_index()\n",
        "country_p.reset_index(inplace=True)\n",
        "country_p"
      ],
      "execution_count": 224,
      "outputs": [
        {
          "output_type": "execute_result",
          "data": {
            "text/html": [
              "<div>\n",
              "<style scoped>\n",
              "    .dataframe tbody tr th:only-of-type {\n",
              "        vertical-align: middle;\n",
              "    }\n",
              "\n",
              "    .dataframe tbody tr th {\n",
              "        vertical-align: top;\n",
              "    }\n",
              "\n",
              "    .dataframe thead th {\n",
              "        text-align: right;\n",
              "    }\n",
              "</style>\n",
              "<table border=\"1\" class=\"dataframe\">\n",
              "  <thead>\n",
              "    <tr style=\"text-align: right;\">\n",
              "      <th></th>\n",
              "      <th>country</th>\n",
              "      <th>product</th>\n",
              "      <th>tons</th>\n",
              "      <th>usd</th>\n",
              "    </tr>\n",
              "  </thead>\n",
              "  <tbody>\n",
              "    <tr>\n",
              "      <th>0</th>\n",
              "      <td>Afghanistan</td>\n",
              "      <td>corn</td>\n",
              "      <td>13076.830</td>\n",
              "      <td>2.378200e+06</td>\n",
              "    </tr>\n",
              "    <tr>\n",
              "      <th>1</th>\n",
              "      <td>Afghanistan</td>\n",
              "      <td>sugar</td>\n",
              "      <td>27.000</td>\n",
              "      <td>9.718000e+03</td>\n",
              "    </tr>\n",
              "    <tr>\n",
              "      <th>2</th>\n",
              "      <td>Albania</td>\n",
              "      <td>sugar</td>\n",
              "      <td>18445.500</td>\n",
              "      <td>8.348637e+06</td>\n",
              "    </tr>\n",
              "    <tr>\n",
              "      <th>3</th>\n",
              "      <td>Algeria</td>\n",
              "      <td>corn</td>\n",
              "      <td>1618685.430</td>\n",
              "      <td>2.650813e+08</td>\n",
              "    </tr>\n",
              "    <tr>\n",
              "      <th>4</th>\n",
              "      <td>Algeria</td>\n",
              "      <td>sugar</td>\n",
              "      <td>6696854.262</td>\n",
              "      <td>2.176381e+09</td>\n",
              "    </tr>\n",
              "    <tr>\n",
              "      <th>...</th>\n",
              "      <td>...</td>\n",
              "      <td>...</td>\n",
              "      <td>...</td>\n",
              "      <td>...</td>\n",
              "    </tr>\n",
              "    <tr>\n",
              "      <th>265</th>\n",
              "      <td>Vietnam</td>\n",
              "      <td>sugar</td>\n",
              "      <td>9987.000</td>\n",
              "      <td>4.175443e+06</td>\n",
              "    </tr>\n",
              "    <tr>\n",
              "      <th>266</th>\n",
              "      <td>Virgin Islands (UK)</td>\n",
              "      <td>corn</td>\n",
              "      <td>2242.331</td>\n",
              "      <td>3.737930e+05</td>\n",
              "    </tr>\n",
              "    <tr>\n",
              "      <th>267</th>\n",
              "      <td>Yemen</td>\n",
              "      <td>corn</td>\n",
              "      <td>779.280</td>\n",
              "      <td>3.412190e+05</td>\n",
              "    </tr>\n",
              "    <tr>\n",
              "      <th>268</th>\n",
              "      <td>Yemen</td>\n",
              "      <td>sugar</td>\n",
              "      <td>1737514.636</td>\n",
              "      <td>5.886086e+08</td>\n",
              "    </tr>\n",
              "    <tr>\n",
              "      <th>269</th>\n",
              "      <td>Zambia</td>\n",
              "      <td>corn</td>\n",
              "      <td>0.162</td>\n",
              "      <td>4.070000e+02</td>\n",
              "    </tr>\n",
              "  </tbody>\n",
              "</table>\n",
              "<p>270 rows × 4 columns</p>\n",
              "</div>"
            ],
            "text/plain": [
              "                 country product         tons           usd\n",
              "0            Afghanistan    corn    13076.830  2.378200e+06\n",
              "1            Afghanistan   sugar       27.000  9.718000e+03\n",
              "2                Albania   sugar    18445.500  8.348637e+06\n",
              "3                Algeria    corn  1618685.430  2.650813e+08\n",
              "4                Algeria   sugar  6696854.262  2.176381e+09\n",
              "..                   ...     ...          ...           ...\n",
              "265              Vietnam   sugar     9987.000  4.175443e+06\n",
              "266  Virgin Islands (UK)    corn     2242.331  3.737930e+05\n",
              "267                Yemen    corn      779.280  3.412190e+05\n",
              "268                Yemen   sugar  1737514.636  5.886086e+08\n",
              "269               Zambia    corn        0.162  4.070000e+02\n",
              "\n",
              "[270 rows x 4 columns]"
            ]
          },
          "metadata": {
            "tags": []
          },
          "execution_count": 224
        }
      ]
    },
    {
      "cell_type": "code",
      "metadata": {
        "id": "ZrvMwme33Atx",
        "colab_type": "code",
        "colab": {
          "base_uri": "https://localhost:8080/",
          "height": 197
        },
        "outputId": "e2065b48-5e70-4ff6-bb99-c48cdc9d58cb"
      },
      "source": [
        "sugar = country_p.loc[(country_p['product'].isin(['sugar']))].sort_values(by ='usd', ascending=False)[0:5]\n",
        "sugar"
      ],
      "execution_count": 225,
      "outputs": [
        {
          "output_type": "execute_result",
          "data": {
            "text/html": [
              "<div>\n",
              "<style scoped>\n",
              "    .dataframe tbody tr th:only-of-type {\n",
              "        vertical-align: middle;\n",
              "    }\n",
              "\n",
              "    .dataframe tbody tr th {\n",
              "        vertical-align: top;\n",
              "    }\n",
              "\n",
              "    .dataframe thead th {\n",
              "        text-align: right;\n",
              "    }\n",
              "</style>\n",
              "<table border=\"1\" class=\"dataframe\">\n",
              "  <thead>\n",
              "    <tr style=\"text-align: right;\">\n",
              "      <th></th>\n",
              "      <th>country</th>\n",
              "      <th>product</th>\n",
              "      <th>tons</th>\n",
              "      <th>usd</th>\n",
              "    </tr>\n",
              "  </thead>\n",
              "  <tbody>\n",
              "    <tr>\n",
              "      <th>4</th>\n",
              "      <td>Algeria</td>\n",
              "      <td>sugar</td>\n",
              "      <td>6696854.262</td>\n",
              "      <td>2.176381e+09</td>\n",
              "    </tr>\n",
              "    <tr>\n",
              "      <th>22</th>\n",
              "      <td>Bangladesh</td>\n",
              "      <td>sugar</td>\n",
              "      <td>6331640.155</td>\n",
              "      <td>2.063175e+09</td>\n",
              "    </tr>\n",
              "    <tr>\n",
              "      <th>113</th>\n",
              "      <td>India</td>\n",
              "      <td>sugar</td>\n",
              "      <td>5111371.882</td>\n",
              "      <td>1.696095e+09</td>\n",
              "    </tr>\n",
              "    <tr>\n",
              "      <th>254</th>\n",
              "      <td>United Arab Emirates</td>\n",
              "      <td>sugar</td>\n",
              "      <td>4545802.219</td>\n",
              "      <td>1.538398e+09</td>\n",
              "    </tr>\n",
              "    <tr>\n",
              "      <th>209</th>\n",
              "      <td>Saudi Arabia</td>\n",
              "      <td>sugar</td>\n",
              "      <td>4249461.903</td>\n",
              "      <td>1.380456e+09</td>\n",
              "    </tr>\n",
              "  </tbody>\n",
              "</table>\n",
              "</div>"
            ],
            "text/plain": [
              "                  country product         tons           usd\n",
              "4                 Algeria   sugar  6696854.262  2.176381e+09\n",
              "22             Bangladesh   sugar  6331640.155  2.063175e+09\n",
              "113                 India   sugar  5111371.882  1.696095e+09\n",
              "254  United Arab Emirates   sugar  4545802.219  1.538398e+09\n",
              "209          Saudi Arabia   sugar  4249461.903  1.380456e+09"
            ]
          },
          "metadata": {
            "tags": []
          },
          "execution_count": 225
        }
      ]
    },
    {
      "cell_type": "code",
      "metadata": {
        "id": "TogRBZpw3Cwx",
        "colab_type": "code",
        "colab": {
          "base_uri": "https://localhost:8080/",
          "height": 197
        },
        "outputId": "43ba63a3-ab74-4a2b-9e64-5ef58eeaf88d"
      },
      "source": [
        "corn2 = country_p.loc[(country_p['product'].isin(['corn']))].sort_values(by ='usd', ascending=False)[0:5]\n",
        "corn2"
      ],
      "execution_count": 226,
      "outputs": [
        {
          "output_type": "execute_result",
          "data": {
            "text/html": [
              "<div>\n",
              "<style scoped>\n",
              "    .dataframe tbody tr th:only-of-type {\n",
              "        vertical-align: middle;\n",
              "    }\n",
              "\n",
              "    .dataframe tbody tr th {\n",
              "        vertical-align: top;\n",
              "    }\n",
              "\n",
              "    .dataframe thead th {\n",
              "        text-align: right;\n",
              "    }\n",
              "</style>\n",
              "<table border=\"1\" class=\"dataframe\">\n",
              "  <thead>\n",
              "    <tr style=\"text-align: right;\">\n",
              "      <th></th>\n",
              "      <th>country</th>\n",
              "      <th>product</th>\n",
              "      <th>tons</th>\n",
              "      <th>usd</th>\n",
              "    </tr>\n",
              "  </thead>\n",
              "  <tbody>\n",
              "    <tr>\n",
              "      <th>116</th>\n",
              "      <td>Iran</td>\n",
              "      <td>corn</td>\n",
              "      <td>1.642565e+07</td>\n",
              "      <td>2.822336e+09</td>\n",
              "    </tr>\n",
              "    <tr>\n",
              "      <th>129</th>\n",
              "      <td>Japan</td>\n",
              "      <td>corn</td>\n",
              "      <td>9.676921e+06</td>\n",
              "      <td>1.574976e+09</td>\n",
              "    </tr>\n",
              "    <tr>\n",
              "      <th>264</th>\n",
              "      <td>Vietnam</td>\n",
              "      <td>corn</td>\n",
              "      <td>9.446982e+06</td>\n",
              "      <td>1.551035e+09</td>\n",
              "    </tr>\n",
              "    <tr>\n",
              "      <th>74</th>\n",
              "      <td>Egypt</td>\n",
              "      <td>corn</td>\n",
              "      <td>8.353797e+06</td>\n",
              "      <td>1.375065e+09</td>\n",
              "    </tr>\n",
              "    <tr>\n",
              "      <th>223</th>\n",
              "      <td>Spain</td>\n",
              "      <td>corn</td>\n",
              "      <td>8.243946e+06</td>\n",
              "      <td>1.335780e+09</td>\n",
              "    </tr>\n",
              "  </tbody>\n",
              "</table>\n",
              "</div>"
            ],
            "text/plain": [
              "     country product          tons           usd\n",
              "116     Iran    corn  1.642565e+07  2.822336e+09\n",
              "129    Japan    corn  9.676921e+06  1.574976e+09\n",
              "264  Vietnam    corn  9.446982e+06  1.551035e+09\n",
              "74     Egypt    corn  8.353797e+06  1.375065e+09\n",
              "223    Spain    corn  8.243946e+06  1.335780e+09"
            ]
          },
          "metadata": {
            "tags": []
          },
          "execution_count": 226
        }
      ]
    },
    {
      "cell_type": "markdown",
      "metadata": {
        "id": "8Dps41hP3IQP",
        "colab_type": "text"
      },
      "source": [
        "## Question 5"
      ]
    },
    {
      "cell_type": "markdown",
      "metadata": {
        "id": "RR2lXvAf3IHP",
        "colab_type": "text"
      },
      "source": [
        "###For each of the products in the dataset, show the 5 most important states in terms of exports?"
      ]
    },
    {
      "cell_type": "code",
      "metadata": {
        "id": "EAzGEs573NNs",
        "colab_type": "code",
        "colab": {
          "base_uri": "https://localhost:8080/",
          "height": 436
        },
        "outputId": "baa198bf-9dc0-41bc-9de2-e9743e7fe1ce"
      },
      "source": [
        "export = comex.loc[(comex['type']== 'Export')]\n",
        "export"
      ],
      "execution_count": 228,
      "outputs": [
        {
          "output_type": "execute_result",
          "data": {
            "text/html": [
              "<div>\n",
              "<style scoped>\n",
              "    .dataframe tbody tr th:only-of-type {\n",
              "        vertical-align: middle;\n",
              "    }\n",
              "\n",
              "    .dataframe tbody tr th {\n",
              "        vertical-align: top;\n",
              "    }\n",
              "\n",
              "    .dataframe thead th {\n",
              "        text-align: right;\n",
              "    }\n",
              "</style>\n",
              "<table border=\"1\" class=\"dataframe\">\n",
              "  <thead>\n",
              "    <tr style=\"text-align: right;\">\n",
              "      <th></th>\n",
              "      <th>product</th>\n",
              "      <th>state</th>\n",
              "      <th>country</th>\n",
              "      <th>type</th>\n",
              "      <th>route</th>\n",
              "      <th>tons</th>\n",
              "      <th>usd</th>\n",
              "    </tr>\n",
              "    <tr>\n",
              "      <th>date</th>\n",
              "      <th></th>\n",
              "      <th></th>\n",
              "      <th></th>\n",
              "      <th></th>\n",
              "      <th></th>\n",
              "      <th></th>\n",
              "      <th></th>\n",
              "    </tr>\n",
              "  </thead>\n",
              "  <tbody>\n",
              "    <tr>\n",
              "      <th>1997-01-01</th>\n",
              "      <td>corn</td>\n",
              "      <td>GO</td>\n",
              "      <td>Bolivia</td>\n",
              "      <td>Export</td>\n",
              "      <td>Ground</td>\n",
              "      <td>0.200</td>\n",
              "      <td>180.0</td>\n",
              "    </tr>\n",
              "    <tr>\n",
              "      <th>1997-01-01</th>\n",
              "      <td>corn</td>\n",
              "      <td>GO</td>\n",
              "      <td>United States</td>\n",
              "      <td>Export</td>\n",
              "      <td>Sea</td>\n",
              "      <td>3.488</td>\n",
              "      <td>5688.0</td>\n",
              "    </tr>\n",
              "    <tr>\n",
              "      <th>1997-01-01</th>\n",
              "      <td>corn</td>\n",
              "      <td>MS</td>\n",
              "      <td>Paraguay</td>\n",
              "      <td>Export</td>\n",
              "      <td>Ground</td>\n",
              "      <td>40.000</td>\n",
              "      <td>38700.0</td>\n",
              "    </tr>\n",
              "    <tr>\n",
              "      <th>1997-01-01</th>\n",
              "      <td>corn</td>\n",
              "      <td>PR</td>\n",
              "      <td>Netherlands</td>\n",
              "      <td>Export</td>\n",
              "      <td>Sea</td>\n",
              "      <td>170000.000</td>\n",
              "      <td>20000000.0</td>\n",
              "    </tr>\n",
              "    <tr>\n",
              "      <th>1997-01-01</th>\n",
              "      <td>corn</td>\n",
              "      <td>PR</td>\n",
              "      <td>Paraguay</td>\n",
              "      <td>Export</td>\n",
              "      <td>Ground</td>\n",
              "      <td>258.300</td>\n",
              "      <td>386733.0</td>\n",
              "    </tr>\n",
              "    <tr>\n",
              "      <th>...</th>\n",
              "      <td>...</td>\n",
              "      <td>...</td>\n",
              "      <td>...</td>\n",
              "      <td>...</td>\n",
              "      <td>...</td>\n",
              "      <td>...</td>\n",
              "      <td>...</td>\n",
              "    </tr>\n",
              "    <tr>\n",
              "      <th>2019-12-01</th>\n",
              "      <td>wheat</td>\n",
              "      <td>PR</td>\n",
              "      <td>United States</td>\n",
              "      <td>Export</td>\n",
              "      <td>Sea</td>\n",
              "      <td>0.400</td>\n",
              "      <td>400.0</td>\n",
              "    </tr>\n",
              "    <tr>\n",
              "      <th>2019-12-01</th>\n",
              "      <td>wheat</td>\n",
              "      <td>RS</td>\n",
              "      <td>Vietnam</td>\n",
              "      <td>Export</td>\n",
              "      <td>Sea</td>\n",
              "      <td>36698.000</td>\n",
              "      <td>6963002.0</td>\n",
              "    </tr>\n",
              "    <tr>\n",
              "      <th>2019-12-01</th>\n",
              "      <td>wheat</td>\n",
              "      <td>SP</td>\n",
              "      <td>Ireland</td>\n",
              "      <td>Export</td>\n",
              "      <td>Sea</td>\n",
              "      <td>0.500</td>\n",
              "      <td>477.0</td>\n",
              "    </tr>\n",
              "    <tr>\n",
              "      <th>2019-12-01</th>\n",
              "      <td>wheat</td>\n",
              "      <td>SP</td>\n",
              "      <td>Liberia</td>\n",
              "      <td>Export</td>\n",
              "      <td>Other</td>\n",
              "      <td>0.025</td>\n",
              "      <td>50.0</td>\n",
              "    </tr>\n",
              "    <tr>\n",
              "      <th>2019-12-01</th>\n",
              "      <td>wheat</td>\n",
              "      <td>SP</td>\n",
              "      <td>Marshall Islands</td>\n",
              "      <td>Export</td>\n",
              "      <td>Other</td>\n",
              "      <td>0.010</td>\n",
              "      <td>85.0</td>\n",
              "    </tr>\n",
              "  </tbody>\n",
              "</table>\n",
              "<p>105861 rows × 7 columns</p>\n",
              "</div>"
            ],
            "text/plain": [
              "           product state           country  ...   route        tons         usd\n",
              "date                                        ...                                \n",
              "1997-01-01    corn    GO           Bolivia  ...  Ground       0.200       180.0\n",
              "1997-01-01    corn    GO     United States  ...     Sea       3.488      5688.0\n",
              "1997-01-01    corn    MS          Paraguay  ...  Ground      40.000     38700.0\n",
              "1997-01-01    corn    PR       Netherlands  ...     Sea  170000.000  20000000.0\n",
              "1997-01-01    corn    PR          Paraguay  ...  Ground     258.300    386733.0\n",
              "...            ...   ...               ...  ...     ...         ...         ...\n",
              "2019-12-01   wheat    PR     United States  ...     Sea       0.400       400.0\n",
              "2019-12-01   wheat    RS           Vietnam  ...     Sea   36698.000   6963002.0\n",
              "2019-12-01   wheat    SP           Ireland  ...     Sea       0.500       477.0\n",
              "2019-12-01   wheat    SP           Liberia  ...   Other       0.025        50.0\n",
              "2019-12-01   wheat    SP  Marshall Islands  ...   Other       0.010        85.0\n",
              "\n",
              "[105861 rows x 7 columns]"
            ]
          },
          "metadata": {
            "tags": []
          },
          "execution_count": 228
        }
      ]
    },
    {
      "cell_type": "code",
      "metadata": {
        "id": "znW2oTbt3Qlt",
        "colab_type": "code",
        "colab": {
          "base_uri": "https://localhost:8080/",
          "height": 406
        },
        "outputId": "178fec18-d907-465b-8884-f040ebfddc7a"
      },
      "source": [
        "produtos = export.groupby(['product','state']).sum()\n",
        "produtos.reset_index(inplace=True)\n",
        "produtos"
      ],
      "execution_count": 229,
      "outputs": [
        {
          "output_type": "execute_result",
          "data": {
            "text/html": [
              "<div>\n",
              "<style scoped>\n",
              "    .dataframe tbody tr th:only-of-type {\n",
              "        vertical-align: middle;\n",
              "    }\n",
              "\n",
              "    .dataframe tbody tr th {\n",
              "        vertical-align: top;\n",
              "    }\n",
              "\n",
              "    .dataframe thead th {\n",
              "        text-align: right;\n",
              "    }\n",
              "</style>\n",
              "<table border=\"1\" class=\"dataframe\">\n",
              "  <thead>\n",
              "    <tr style=\"text-align: right;\">\n",
              "      <th></th>\n",
              "      <th>product</th>\n",
              "      <th>state</th>\n",
              "      <th>tons</th>\n",
              "      <th>usd</th>\n",
              "    </tr>\n",
              "  </thead>\n",
              "  <tbody>\n",
              "    <tr>\n",
              "      <th>0</th>\n",
              "      <td>corn</td>\n",
              "      <td>AC</td>\n",
              "      <td>8347.480</td>\n",
              "      <td>1.857114e+06</td>\n",
              "    </tr>\n",
              "    <tr>\n",
              "      <th>1</th>\n",
              "      <td>corn</td>\n",
              "      <td>AL</td>\n",
              "      <td>0.010</td>\n",
              "      <td>1.800000e+01</td>\n",
              "    </tr>\n",
              "    <tr>\n",
              "      <th>2</th>\n",
              "      <td>corn</td>\n",
              "      <td>AM</td>\n",
              "      <td>0.815</td>\n",
              "      <td>6.620000e+02</td>\n",
              "    </tr>\n",
              "    <tr>\n",
              "      <th>3</th>\n",
              "      <td>corn</td>\n",
              "      <td>AP</td>\n",
              "      <td>858.682</td>\n",
              "      <td>2.498760e+05</td>\n",
              "    </tr>\n",
              "    <tr>\n",
              "      <th>4</th>\n",
              "      <td>corn</td>\n",
              "      <td>BA</td>\n",
              "      <td>641051.982</td>\n",
              "      <td>1.476464e+08</td>\n",
              "    </tr>\n",
              "    <tr>\n",
              "      <th>...</th>\n",
              "      <td>...</td>\n",
              "      <td>...</td>\n",
              "      <td>...</td>\n",
              "      <td>...</td>\n",
              "    </tr>\n",
              "    <tr>\n",
              "      <th>131</th>\n",
              "      <td>wheat</td>\n",
              "      <td>RJ</td>\n",
              "      <td>23.637</td>\n",
              "      <td>3.124800e+04</td>\n",
              "    </tr>\n",
              "    <tr>\n",
              "      <th>132</th>\n",
              "      <td>wheat</td>\n",
              "      <td>RO</td>\n",
              "      <td>1.870</td>\n",
              "      <td>3.275000e+03</td>\n",
              "    </tr>\n",
              "    <tr>\n",
              "      <th>133</th>\n",
              "      <td>wheat</td>\n",
              "      <td>RS</td>\n",
              "      <td>6734981.032</td>\n",
              "      <td>1.555925e+09</td>\n",
              "    </tr>\n",
              "    <tr>\n",
              "      <th>134</th>\n",
              "      <td>wheat</td>\n",
              "      <td>SC</td>\n",
              "      <td>81340.920</td>\n",
              "      <td>2.540009e+07</td>\n",
              "    </tr>\n",
              "    <tr>\n",
              "      <th>135</th>\n",
              "      <td>wheat</td>\n",
              "      <td>SP</td>\n",
              "      <td>10066.817</td>\n",
              "      <td>2.267024e+06</td>\n",
              "    </tr>\n",
              "  </tbody>\n",
              "</table>\n",
              "<p>136 rows × 4 columns</p>\n",
              "</div>"
            ],
            "text/plain": [
              "    product state         tons           usd\n",
              "0      corn    AC     8347.480  1.857114e+06\n",
              "1      corn    AL        0.010  1.800000e+01\n",
              "2      corn    AM        0.815  6.620000e+02\n",
              "3      corn    AP      858.682  2.498760e+05\n",
              "4      corn    BA   641051.982  1.476464e+08\n",
              "..      ...   ...          ...           ...\n",
              "131   wheat    RJ       23.637  3.124800e+04\n",
              "132   wheat    RO        1.870  3.275000e+03\n",
              "133   wheat    RS  6734981.032  1.555925e+09\n",
              "134   wheat    SC    81340.920  2.540009e+07\n",
              "135   wheat    SP    10066.817  2.267024e+06\n",
              "\n",
              "[136 rows x 4 columns]"
            ]
          },
          "metadata": {
            "tags": []
          },
          "execution_count": 229
        }
      ]
    },
    {
      "cell_type": "code",
      "metadata": {
        "id": "ThpSTeAt3SXM",
        "colab_type": "code",
        "colab": {}
      },
      "source": [
        "prod1 = produtos.loc[(produtos['product']=='corn')].sort_values(by ='usd', ascending=False)[0:5]\n",
        "prod2 = produtos.loc[(produtos['product']=='soybean')].sort_values(by ='usd', ascending=False)[0:5]\n",
        "prod3 = produtos.loc[(produtos['product']=='soybean_meal')].sort_values(by ='usd', ascending=False)[0:5]\n",
        "prod4 = produtos.loc[(produtos['product']=='soybean_oil')].sort_values(by ='usd', ascending=False)[0:5]\n",
        "prod5 = produtos.loc[(produtos['product']=='wheat')].sort_values(by ='usd', ascending=False)[0:5]\n",
        "prod6 = produtos.loc[(produtos['product']=='sugar')].sort_values(by ='usd', ascending=False)[0:5]"
      ],
      "execution_count": 230,
      "outputs": []
    },
    {
      "cell_type": "code",
      "metadata": {
        "id": "tKjOEIBW3Uge",
        "colab_type": "code",
        "colab": {
          "base_uri": "https://localhost:8080/",
          "height": 797
        },
        "outputId": "5c0fc111-466f-4504-d685-b80534a72d3c"
      },
      "source": [
        "produtos_definitivo = pd.concat([prod1,prod2,prod3,prod4,prod5,prod6])\n",
        "produtos_definitivo"
      ],
      "execution_count": 231,
      "outputs": [
        {
          "output_type": "execute_result",
          "data": {
            "text/html": [
              "<div>\n",
              "<style scoped>\n",
              "    .dataframe tbody tr th:only-of-type {\n",
              "        vertical-align: middle;\n",
              "    }\n",
              "\n",
              "    .dataframe tbody tr th {\n",
              "        vertical-align: top;\n",
              "    }\n",
              "\n",
              "    .dataframe thead th {\n",
              "        text-align: right;\n",
              "    }\n",
              "</style>\n",
              "<table border=\"1\" class=\"dataframe\">\n",
              "  <thead>\n",
              "    <tr style=\"text-align: right;\">\n",
              "      <th></th>\n",
              "      <th>product</th>\n",
              "      <th>state</th>\n",
              "      <th>tons</th>\n",
              "      <th>usd</th>\n",
              "    </tr>\n",
              "  </thead>\n",
              "  <tbody>\n",
              "    <tr>\n",
              "      <th>12</th>\n",
              "      <td>corn</td>\n",
              "      <td>MT</td>\n",
              "      <td>1.518234e+08</td>\n",
              "      <td>2.837552e+10</td>\n",
              "    </tr>\n",
              "    <tr>\n",
              "      <th>17</th>\n",
              "      <td>corn</td>\n",
              "      <td>PR</td>\n",
              "      <td>5.386247e+07</td>\n",
              "      <td>9.160512e+09</td>\n",
              "    </tr>\n",
              "    <tr>\n",
              "      <th>8</th>\n",
              "      <td>corn</td>\n",
              "      <td>GO</td>\n",
              "      <td>2.846462e+07</td>\n",
              "      <td>5.706991e+09</td>\n",
              "    </tr>\n",
              "    <tr>\n",
              "      <th>11</th>\n",
              "      <td>corn</td>\n",
              "      <td>MS</td>\n",
              "      <td>1.827060e+07</td>\n",
              "      <td>3.405431e+09</td>\n",
              "    </tr>\n",
              "    <tr>\n",
              "      <th>24</th>\n",
              "      <td>corn</td>\n",
              "      <td>SP</td>\n",
              "      <td>7.343888e+06</td>\n",
              "      <td>1.511122e+09</td>\n",
              "    </tr>\n",
              "    <tr>\n",
              "      <th>36</th>\n",
              "      <td>soybean_meal</td>\n",
              "      <td>MT</td>\n",
              "      <td>7.946227e+07</td>\n",
              "      <td>2.799454e+10</td>\n",
              "    </tr>\n",
              "    <tr>\n",
              "      <th>40</th>\n",
              "      <td>soybean_meal</td>\n",
              "      <td>PR</td>\n",
              "      <td>8.639237e+07</td>\n",
              "      <td>2.464996e+10</td>\n",
              "    </tr>\n",
              "    <tr>\n",
              "      <th>45</th>\n",
              "      <td>soybean_meal</td>\n",
              "      <td>RS</td>\n",
              "      <td>4.892746e+07</td>\n",
              "      <td>1.500739e+10</td>\n",
              "    </tr>\n",
              "    <tr>\n",
              "      <th>32</th>\n",
              "      <td>soybean_meal</td>\n",
              "      <td>GO</td>\n",
              "      <td>2.868658e+07</td>\n",
              "      <td>9.421431e+09</td>\n",
              "    </tr>\n",
              "    <tr>\n",
              "      <th>29</th>\n",
              "      <td>soybean_meal</td>\n",
              "      <td>BA</td>\n",
              "      <td>1.736806e+07</td>\n",
              "      <td>5.439266e+09</td>\n",
              "    </tr>\n",
              "    <tr>\n",
              "      <th>65</th>\n",
              "      <td>soybean_oil</td>\n",
              "      <td>PR</td>\n",
              "      <td>1.648205e+07</td>\n",
              "      <td>1.110910e+10</td>\n",
              "    </tr>\n",
              "    <tr>\n",
              "      <th>69</th>\n",
              "      <td>soybean_oil</td>\n",
              "      <td>RS</td>\n",
              "      <td>9.279786e+06</td>\n",
              "      <td>6.281965e+09</td>\n",
              "    </tr>\n",
              "    <tr>\n",
              "      <th>61</th>\n",
              "      <td>soybean_oil</td>\n",
              "      <td>MT</td>\n",
              "      <td>7.423877e+06</td>\n",
              "      <td>5.434514e+09</td>\n",
              "    </tr>\n",
              "    <tr>\n",
              "      <th>70</th>\n",
              "      <td>soybean_oil</td>\n",
              "      <td>SC</td>\n",
              "      <td>1.786134e+06</td>\n",
              "      <td>1.238811e+09</td>\n",
              "    </tr>\n",
              "    <tr>\n",
              "      <th>57</th>\n",
              "      <td>soybean_oil</td>\n",
              "      <td>GO</td>\n",
              "      <td>1.094295e+06</td>\n",
              "      <td>8.559207e+08</td>\n",
              "    </tr>\n",
              "    <tr>\n",
              "      <th>133</th>\n",
              "      <td>wheat</td>\n",
              "      <td>RS</td>\n",
              "      <td>6.734981e+06</td>\n",
              "      <td>1.555925e+09</td>\n",
              "    </tr>\n",
              "    <tr>\n",
              "      <th>130</th>\n",
              "      <td>wheat</td>\n",
              "      <td>PR</td>\n",
              "      <td>8.249746e+05</td>\n",
              "      <td>1.839354e+08</td>\n",
              "    </tr>\n",
              "    <tr>\n",
              "      <th>134</th>\n",
              "      <td>wheat</td>\n",
              "      <td>SC</td>\n",
              "      <td>8.134092e+04</td>\n",
              "      <td>2.540009e+07</td>\n",
              "    </tr>\n",
              "    <tr>\n",
              "      <th>135</th>\n",
              "      <td>wheat</td>\n",
              "      <td>SP</td>\n",
              "      <td>1.006682e+04</td>\n",
              "      <td>2.267024e+06</td>\n",
              "    </tr>\n",
              "    <tr>\n",
              "      <th>129</th>\n",
              "      <td>wheat</td>\n",
              "      <td>MS</td>\n",
              "      <td>9.101080e+02</td>\n",
              "      <td>2.757330e+05</td>\n",
              "    </tr>\n",
              "    <tr>\n",
              "      <th>123</th>\n",
              "      <td>sugar</td>\n",
              "      <td>SP</td>\n",
              "      <td>1.879603e+08</td>\n",
              "      <td>6.621186e+10</td>\n",
              "    </tr>\n",
              "    <tr>\n",
              "      <th>108</th>\n",
              "      <td>sugar</td>\n",
              "      <td>MG</td>\n",
              "      <td>2.318293e+07</td>\n",
              "      <td>8.559401e+09</td>\n",
              "    </tr>\n",
              "    <tr>\n",
              "      <th>115</th>\n",
              "      <td>sugar</td>\n",
              "      <td>PR</td>\n",
              "      <td>2.198688e+07</td>\n",
              "      <td>8.270779e+09</td>\n",
              "    </tr>\n",
              "    <tr>\n",
              "      <th>99</th>\n",
              "      <td>sugar</td>\n",
              "      <td>AL</td>\n",
              "      <td>1.261794e+07</td>\n",
              "      <td>4.826419e+09</td>\n",
              "    </tr>\n",
              "    <tr>\n",
              "      <th>109</th>\n",
              "      <td>sugar</td>\n",
              "      <td>MS</td>\n",
              "      <td>8.406289e+06</td>\n",
              "      <td>3.219035e+09</td>\n",
              "    </tr>\n",
              "  </tbody>\n",
              "</table>\n",
              "</div>"
            ],
            "text/plain": [
              "          product state          tons           usd\n",
              "12           corn    MT  1.518234e+08  2.837552e+10\n",
              "17           corn    PR  5.386247e+07  9.160512e+09\n",
              "8            corn    GO  2.846462e+07  5.706991e+09\n",
              "11           corn    MS  1.827060e+07  3.405431e+09\n",
              "24           corn    SP  7.343888e+06  1.511122e+09\n",
              "36   soybean_meal    MT  7.946227e+07  2.799454e+10\n",
              "40   soybean_meal    PR  8.639237e+07  2.464996e+10\n",
              "45   soybean_meal    RS  4.892746e+07  1.500739e+10\n",
              "32   soybean_meal    GO  2.868658e+07  9.421431e+09\n",
              "29   soybean_meal    BA  1.736806e+07  5.439266e+09\n",
              "65    soybean_oil    PR  1.648205e+07  1.110910e+10\n",
              "69    soybean_oil    RS  9.279786e+06  6.281965e+09\n",
              "61    soybean_oil    MT  7.423877e+06  5.434514e+09\n",
              "70    soybean_oil    SC  1.786134e+06  1.238811e+09\n",
              "57    soybean_oil    GO  1.094295e+06  8.559207e+08\n",
              "133         wheat    RS  6.734981e+06  1.555925e+09\n",
              "130         wheat    PR  8.249746e+05  1.839354e+08\n",
              "134         wheat    SC  8.134092e+04  2.540009e+07\n",
              "135         wheat    SP  1.006682e+04  2.267024e+06\n",
              "129         wheat    MS  9.101080e+02  2.757330e+05\n",
              "123         sugar    SP  1.879603e+08  6.621186e+10\n",
              "108         sugar    MG  2.318293e+07  8.559401e+09\n",
              "115         sugar    PR  2.198688e+07  8.270779e+09\n",
              "99          sugar    AL  1.261794e+07  4.826419e+09\n",
              "109         sugar    MS  8.406289e+06  3.219035e+09"
            ]
          },
          "metadata": {
            "tags": []
          },
          "execution_count": 231
        }
      ]
    },
    {
      "cell_type": "code",
      "metadata": {
        "id": "sLlnUCkZ3hJk",
        "colab_type": "code",
        "colab": {}
      },
      "source": [
        ""
      ],
      "execution_count": null,
      "outputs": []
    }
  ]
}